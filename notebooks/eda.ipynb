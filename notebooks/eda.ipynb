{
 "cells": [
  {
   "cell_type": "code",
   "execution_count": 2,
   "metadata": {},
   "outputs": [],
   "source": [
    "import pandas as pd\n",
    "import numpy as np\n",
    "import matplotlib.pyplot as plt\n",
    "import seaborn as sns"
   ]
  },
  {
   "cell_type": "markdown",
   "metadata": {},
   "source": [
    "### Exploring the Data\n",
    "The scraped dataset catalogues the advanced stats for almost every NBA team from 1977. The advanced stats are:\n",
    "  - Team Name\n",
    "  - Regular Season Wins and Loses\n",
    "  - Regular Season Pythagorean Wins and Loses\n",
    "    - A metric to estimate wins based on points scored/allowed\n",
    "  - Average Margin of Victory\n",
    "  - SOS: rating the team against the other teams relatively\n",
    "  - SRS: combination rating of point differential and SOS\n",
    "  - ORtg: points scored per 100 possessions\n",
    "  - DRtg: points allowed per 100 possessions\n",
    "  - NRtg: ORtg - DRtg\n",
    "  - Pace: Approximate possesions per 48 minutes\n",
    "  - FTr: FT attempts per FG attempts\n",
    "  - 3PAr: 3PT attempts per FG attempts\n",
    "  - TS%: overall shooting percentage\n",
    "  - eFG%: Weights three point makes and attempts and two point attempts proportionally\n",
    "  - TOV%: Turnovers per 100 plays\n",
    "  - ORB%: Offensive rebounds per 100 plays\n",
    "  - FT/FGA: free throw makes per FG attempt\n",
    "  - DRB%: Rebounds per 100 oppertuntities\n",
    "  - "
   ]
  }
 ],
 "metadata": {
  "interpreter": {
   "hash": "f297435e7483730f90c95e4704d8a04a13ec840de4923b2310ae22b6393e10ed"
  },
  "kernelspec": {
   "display_name": "Python 3.9.7 64-bit ('nba-data-analysis': conda)",
   "language": "python",
   "name": "python3"
  },
  "language_info": {
   "codemirror_mode": {
    "name": "ipython",
    "version": 3
   },
   "file_extension": ".py",
   "mimetype": "text/x-python",
   "name": "python",
   "nbconvert_exporter": "python",
   "pygments_lexer": "ipython3",
   "version": "3.9.7"
  },
  "orig_nbformat": 4
 },
 "nbformat": 4,
 "nbformat_minor": 2
}
