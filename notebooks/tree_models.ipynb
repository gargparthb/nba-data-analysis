{
 "cells": [
  {
   "cell_type": "code",
   "execution_count": 97,
   "metadata": {},
   "outputs": [],
   "source": [
    "import pandas as pd\n",
    "import numpy as np\n",
    "from sklearn.model_selection import train_test_split\n",
    "from sklearn import tree\n",
    "from sklearn import ensemble\n",
    "from sklearn.feature_selection import RFECV\n",
    "from sklearn import metrics\n",
    "import math\n",
    "from pprint import pprint\n",
    "import pickle\n",
    "import matplotlib.pyplot as plt\n",
    "import seaborn as sns\n",
    "%matplotlib inline\n",
    "sns.set_style('whitegrid')\n",
    "sns.set(rc={'figure.figsize':(12,8)})"
   ]
  },
  {
   "cell_type": "code",
   "execution_count": 98,
   "metadata": {},
   "outputs": [],
   "source": [
    "def score_model(model):\n",
    "  y_pred = model.predict(x_test)\n",
    "  print(\"R2 score =\", round(metrics.r2_score(y_test, y_pred), 2))\n",
    "  print(\"Mean absolute error =\", round(metrics.mean_absolute_error(y_test, y_pred), 2)) \n",
    "  print(\"Root mean squared error =\", round(math.sqrt(metrics.mean_squared_error(y_test, y_pred)), 2))\n",
    "\n",
    "def save_model(model, filename):\n",
    "  with open(\"../models/tree_models/\" + filename + \".pickle\", \"wb\") as f:\n",
    "    pickle.dump(model, f)\n",
    "  print('Model saved as ' + filename + '.pickle')"
   ]
  },
  {
   "cell_type": "markdown",
   "metadata": {},
   "source": [
    "### Loading and Splitting the Data"
   ]
  },
  {
   "cell_type": "code",
   "execution_count": 99,
   "metadata": {},
   "outputs": [
    {
     "name": "stdout",
     "output_type": "stream",
     "text": [
      "(957, 16) (957,) (169, 16) (169,)\n"
     ]
    }
   ],
   "source": [
    "data = pd.read_csv('../data/teams_normalized.csv')\n",
    "\n",
    "# separating the dataset into section ready for model fitting\n",
    "train, test = train_test_split(data, test_size=0.15, train_size=0.85)\n",
    "x_cols = ['Age', 'ORtg', 'DRtg', 'NRtg', 'Pace', '3PAr_Norm', 'FTr', 'TS%', 'eFG%', 'TOV%', 'ORB%', 'FT/FGA', 'OeFG%', 'OTOV%', 'DRB%', 'OFT/FGA']\n",
    "y_col = 'W'\n",
    "\n",
    "x_train = train[x_cols]\n",
    "y_train = train[y_col]\n",
    "x_test= test[x_cols]\n",
    "y_test = test[y_col]\n",
    "\n",
    "print(x_train.shape, y_train.shape, x_test.shape, y_test.shape)"
   ]
  },
  {
   "cell_type": "markdown",
   "metadata": {},
   "source": [
    "### Training the Model\n",
    "We can select the loss function as the criterion for the decision tree."
   ]
  },
  {
   "cell_type": "code",
   "execution_count": 100,
   "metadata": {},
   "outputs": [
    {
     "data": {
      "text/plain": [
       "DecisionTreeRegressor(max_depth=7)"
      ]
     },
     "execution_count": 100,
     "metadata": {},
     "output_type": "execute_result"
    }
   ],
   "source": [
    "decision_tree = tree.DecisionTreeRegressor(\n",
    "  max_depth=7\n",
    ")\n",
    "\n",
    "decision_tree.fit(x_train, y_train)"
   ]
  },
  {
   "cell_type": "markdown",
   "metadata": {},
   "source": [
    "### Evaluating the Model"
   ]
  },
  {
   "cell_type": "code",
   "execution_count": 101,
   "metadata": {},
   "outputs": [
    {
     "name": "stdout",
     "output_type": "stream",
     "text": [
      "R2 score = 0.87\n",
      "Mean absolute error = 3.43\n",
      "Root mean squared error = 4.95\n"
     ]
    }
   ],
   "source": [
    "score_model(decision_tree)"
   ]
  },
  {
   "cell_type": "code",
   "execution_count": 102,
   "metadata": {},
   "outputs": [
    {
     "name": "stdout",
     "output_type": "stream",
     "text": [
      "Feature Importance:\n",
      "{'3PAr_Norm': 0.0016147342084601014,\n",
      " 'Age': 0.003057989773680969,\n",
      " 'DRB%': 0.006907926581895618,\n",
      " 'DRtg': 0.01052575358118071,\n",
      " 'FT/FGA': 0.0021120611258507015,\n",
      " 'FTr': 0.0006948895178692541,\n",
      " 'NRtg': 0.9416880452678547,\n",
      " 'OFT/FGA': 0.0016500782943670877,\n",
      " 'ORB%': 0.0015593285862743522,\n",
      " 'ORtg': 0.007882448806007442,\n",
      " 'OTOV%': 0.00012865383073691695,\n",
      " 'OeFG%': 0.0038985877573700324,\n",
      " 'Pace': 0.005182543889132455,\n",
      " 'TOV%': 0.0018508722921521412,\n",
      " 'TS%': 0.007336461746671462,\n",
      " 'eFG%': 0.003909624740496002}\n"
     ]
    }
   ],
   "source": [
    "print('Feature Importance:')\n",
    "pprint(\n",
    "  dict(zip(x_cols, decision_tree.feature_importances_))\n",
    "  )"
   ]
  },
  {
   "cell_type": "markdown",
   "metadata": {},
   "source": [
    "This model relies heavily on the Net Rating metric, and pretty minimizes all the other columns."
   ]
  },
  {
   "cell_type": "code",
   "execution_count": 103,
   "metadata": {},
   "outputs": [
    {
     "name": "stdout",
     "output_type": "stream",
     "text": [
      "Model saved as decision_tree.pickle\n"
     ]
    }
   ],
   "source": [
    "tree.export_graphviz(\n",
    "  decision_tree, \n",
    "  out_file='../models/tree_models/decision_tree.dot',\n",
    "  feature_names=x_cols)\n",
    "\n",
    "save_model(decision_tree, 'decision_tree')"
   ]
  },
  {
   "cell_type": "markdown",
   "metadata": {},
   "source": [
    "With this .dot file, we can visualize the actual decision tree the computer uses to calculate win totals. "
   ]
  },
  {
   "cell_type": "markdown",
   "metadata": {},
   "source": [
    "### Random Forest Regression\n",
    "With the decison tree model, we can only have one tree, which limits the amount of computation, but with the RandomForest model we can use many different trees to make a forest and then make a compiled result. "
   ]
  },
  {
   "cell_type": "code",
   "execution_count": 104,
   "metadata": {},
   "outputs": [
    {
     "data": {
      "text/plain": [
       "RandomForestRegressor(n_estimators=500)"
      ]
     },
     "execution_count": 104,
     "metadata": {},
     "output_type": "execute_result"
    }
   ],
   "source": [
    "random_forest = ensemble.RandomForestRegressor(\n",
    "  n_estimators=500\n",
    ")\n",
    "\n",
    "random_forest.fit(x_train, y_train)"
   ]
  },
  {
   "cell_type": "code",
   "execution_count": 105,
   "metadata": {},
   "outputs": [
    {
     "name": "stdout",
     "output_type": "stream",
     "text": [
      "R2 score = 0.89\n",
      "Mean absolute error = 3.27\n",
      "Root mean squared error = 4.4\n"
     ]
    }
   ],
   "source": [
    "score_model(random_forest)"
   ]
  },
  {
   "cell_type": "code",
   "execution_count": 106,
   "metadata": {},
   "outputs": [
    {
     "name": "stdout",
     "output_type": "stream",
     "text": [
      "Feature Importance:\n",
      "{'3PAr_Norm': 0.005491635431041866,\n",
      " 'Age': 0.007214104330086701,\n",
      " 'DRB%': 0.0063988714302483695,\n",
      " 'DRtg': 0.007934346063283271,\n",
      " 'FT/FGA': 0.005579110395274766,\n",
      " 'FTr': 0.005401711297424005,\n",
      " 'NRtg': 0.9023936339602676,\n",
      " 'OFT/FGA': 0.00789719108531173,\n",
      " 'ORB%': 0.003965981045275275,\n",
      " 'ORtg': 0.008305247889231537,\n",
      " 'OTOV%': 0.004385545468294976,\n",
      " 'OeFG%': 0.008251589632889491,\n",
      " 'Pace': 0.009693677066140518,\n",
      " 'TOV%': 0.005276343866120439,\n",
      " 'TS%': 0.006207802918046228,\n",
      " 'eFG%': 0.005603208121062971}\n",
      "Model saved as random_forest.pickle\n"
     ]
    },
    {
     "data": {
      "image/png": "[encoded data removed]",
      "text/plain": [
       "<Figure size 864x576 with 1 Axes>"
      ]
     },
     "metadata": {},
     "output_type": "display_data"
    }
   ],
   "source": [
    "rf_feature_importance = dict(zip(x_cols, random_forest.feature_importances_))\n",
    "\n",
    "print('Feature Importance:')\n",
    "pprint(rf_feature_importance)\n",
    "sns.barplot(\n",
    "  x=list(rf_feature_importance.keys()),\n",
    "  y=list(rf_feature_importance.values()))\n",
    "\n",
    "save_model(random_forest, 'random_forest')"
   ]
  },
  {
   "cell_type": "markdown",
   "metadata": {},
   "source": [
    "Cleary, only a few statistics are needed in determining the win counts. One of the great uses of Random Forest Regression, is that we can use feature elimination to narrow down the best criteria to use."
   ]
  },
  {
   "cell_type": "code",
   "execution_count": 108,
   "metadata": {},
   "outputs": [
    {
     "data": {
      "text/plain": [
       "RFECV(cv=5, estimator=RandomForestRegressor(), scoring='neg_mean_squared_error')"
      ]
     },
     "execution_count": 108,
     "metadata": {},
     "output_type": "execute_result"
    }
   ],
   "source": [
    "rfe_estimator = ensemble.RandomForestRegressor()\n",
    "rfe = RFECV(\n",
    "  rfe_estimator, cv=5, scoring='neg_mean_squared_error'\n",
    ")\n",
    "rfe.fit(x_train, y_train)"
   ]
  },
  {
   "cell_type": "code",
   "execution_count": 114,
   "metadata": {},
   "outputs": [
    {
     "name": "stdout",
     "output_type": "stream",
     "text": [
      "R2 score = 0.89\n",
      "Mean absolute error = 3.27\n",
      "Root mean squared error = 4.44\n"
     ]
    }
   ],
   "source": [
    "score_model(rfe)"
   ]
  }
 ],
 "metadata": {
  "interpreter": {
   "hash": "f297435e7483730f90c95e4704d8a04a13ec840de4923b2310ae22b6393e10ed"
  },
  "kernelspec": {
   "display_name": "Python 3.9.7 64-bit ('nba-data-analysis': conda)",
   "language": "python",
   "name": "python3"
  },
  "language_info": {
   "codemirror_mode": {
    "name": "ipython",
    "version": 3
   },
   "file_extension": ".py",
   "mimetype": "text/x-python",
   "name": "python",
   "nbconvert_exporter": "python",
   "pygments_lexer": "ipython3",
   "version": "3.9.7"
  },
  "orig_nbformat": 4
 },
 "nbformat": 4,
 "nbformat_minor": 2
}
