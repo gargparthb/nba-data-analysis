{
 "cells": [
  {
   "cell_type": "code",
   "execution_count": 187,
   "metadata": {},
   "outputs": [],
   "source": [
    "import pandas as pd\n",
    "import numpy as np\n",
    "from sklearn.model_selection import train_test_split\n",
    "from sklearn import tree\n",
    "from sklearn import ensemble\n",
    "from sklearn.feature_selection import RFECV\n",
    "from sklearn.feature_selection import SelectFromModel\n",
    "from sklearn import metrics\n",
    "import math\n",
    "from pprint import pprint\n",
    "import pickle\n",
    "import matplotlib.pyplot as plt\n",
    "import seaborn as sns\n",
    "%matplotlib inline\n",
    "sns.set_style('whitegrid')\n",
    "sns.set(rc={'figure.figsize':(12,8)})"
   ]
  },
  {
   "cell_type": "code",
   "execution_count": 188,
   "metadata": {},
   "outputs": [],
   "source": [
    "def score_model(model):\n",
    "  y_pred = model.predict(x_test)\n",
    "  print(\"R2 score =\", round(metrics.r2_score(y_test, y_pred), 2))\n",
    "  print(\"Mean absolute error =\", round(metrics.mean_absolute_error(y_test, y_pred), 2)) \n",
    "  print(\"Root mean squared error =\", round(math.sqrt(metrics.mean_squared_error(y_test, y_pred)), 2))\n",
    "\n",
    "def save_model(model, filename):\n",
    "  with open(\"../models/tree_models/\" + filename + \".pickle\", \"wb\") as f:\n",
    "    pickle.dump(model, f)\n",
    "  print('Model saved as ' + filename + '.pickle')"
   ]
  },
  {
   "cell_type": "markdown",
   "metadata": {},
   "source": [
    "### Loading and Splitting the Data"
   ]
  },
  {
   "cell_type": "code",
   "execution_count": 189,
   "metadata": {},
   "outputs": [
    {
     "name": "stdout",
     "output_type": "stream",
     "text": [
      "(881, 12) (881,) (156, 12) (156,)\n"
     ]
    }
   ],
   "source": [
    "data = pd.read_csv('../data/teams_normalized.csv')\n",
    "\n",
    "# separating the dataset into section ready for model fitting\n",
    "train, test = train_test_split(data, test_size=0.15, train_size=0.85)\n",
    "x_cols = ['Age', 'Pace', '3PAr_Norm', 'TS%', 'eFG%', 'TOV%', 'ORB%', 'FT/FGA', 'OeFG%', 'OTOV%', 'DRB%', 'OFT/FGA']\n",
    "y_col = 'W'\n",
    "\n",
    "x_train = train[x_cols]\n",
    "y_train = train[y_col]\n",
    "x_test= test[x_cols]\n",
    "y_test = test[y_col]\n",
    "\n",
    "print(x_train.shape, y_train.shape, x_test.shape, y_test.shape)"
   ]
  },
  {
   "cell_type": "markdown",
   "metadata": {},
   "source": [
    "### Training the Model\n",
    "We can select the loss function as the criterion for the decision tree."
   ]
  },
  {
   "cell_type": "code",
   "execution_count": 190,
   "metadata": {},
   "outputs": [
    {
     "data": {
      "text/plain": [
       "DecisionTreeRegressor(max_depth=50, min_samples_leaf=10)"
      ]
     },
     "execution_count": 190,
     "metadata": {},
     "output_type": "execute_result"
    }
   ],
   "source": [
    "decision_tree = tree.DecisionTreeRegressor(\n",
    "  max_depth=50,\n",
    "  min_samples_leaf=10\n",
    ")\n",
    "\n",
    "decision_tree.fit(x_train, y_train)"
   ]
  },
  {
   "cell_type": "markdown",
   "metadata": {},
   "source": [
    "### Evaluating the Model"
   ]
  },
  {
   "cell_type": "code",
   "execution_count": 191,
   "metadata": {},
   "outputs": [
    {
     "name": "stdout",
     "output_type": "stream",
     "text": [
      "R2 score = 0.68\n",
      "Mean absolute error = 5.82\n",
      "Root mean squared error = 7.53\n"
     ]
    }
   ],
   "source": [
    "score_model(decision_tree)"
   ]
  },
  {
   "cell_type": "code",
   "execution_count": 192,
   "metadata": {},
   "outputs": [
    {
     "name": "stdout",
     "output_type": "stream",
     "text": [
      "Feature Importance:\n",
      "Age: 0.032\n",
      "Pace: 0.0048\n",
      "3PAr_Norm: 0.0061\n",
      "TS%: 0.4675\n",
      "eFG%: 0.0045\n",
      "TOV%: 0.0374\n",
      "ORB%: 0.0204\n",
      "FT/FGA: 0.0035\n",
      "OeFG%: 0.391\n",
      "OTOV%: 0.0121\n",
      "DRB%: 0.006\n",
      "OFT/FGA: 0.0148\n"
     ]
    }
   ],
   "source": [
    "print('Feature Importance:')\n",
    "dt_fi = dict(zip(x_cols, decision_tree.feature_importances_))\n",
    "for key, value in dt_fi.items():\n",
    "  print(key+ \":\", round(value, 4))"
   ]
  },
  {
   "cell_type": "code",
   "execution_count": 193,
   "metadata": {},
   "outputs": [
    {
     "name": "stdout",
     "output_type": "stream",
     "text": [
      "Model saved as decision_tree.pickle\n"
     ]
    }
   ],
   "source": [
    "tree.export_graphviz(\n",
    "  decision_tree, \n",
    "  out_file='../models/tree_models/decision_tree.dot',\n",
    "  feature_names=x_cols)\n",
    "\n",
    "save_model(decision_tree, 'decision_tree')"
   ]
  },
  {
   "cell_type": "markdown",
   "metadata": {},
   "source": [
    "With this .dot file, we can visualize the actual decision tree the computer uses to calculate win totals. "
   ]
  },
  {
   "cell_type": "markdown",
   "metadata": {},
   "source": [
    "### Random Forest Regression\n",
    "With the decison tree model, we can only have one tree, which limits the amount of computation, but with the RandomForest model we can use many different trees to make a forest and then make a compiled result. "
   ]
  },
  {
   "cell_type": "code",
   "execution_count": 194,
   "metadata": {},
   "outputs": [
    {
     "data": {
      "text/plain": [
       "RandomForestRegressor(n_estimators=1000)"
      ]
     },
     "execution_count": 194,
     "metadata": {},
     "output_type": "execute_result"
    }
   ],
   "source": [
    "random_forest = ensemble.RandomForestRegressor(\n",
    "  n_estimators=1000\n",
    ")\n",
    "\n",
    "random_forest.fit(x_train, y_train)"
   ]
  },
  {
   "cell_type": "code",
   "execution_count": 195,
   "metadata": {},
   "outputs": [
    {
     "name": "stdout",
     "output_type": "stream",
     "text": [
      "R2 score = 0.82\n",
      "Mean absolute error = 4.36\n",
      "Root mean squared error = 5.68\n"
     ]
    }
   ],
   "source": [
    "score_model(random_forest)"
   ]
  },
  {
   "cell_type": "code",
   "execution_count": 196,
   "metadata": {},
   "outputs": [
    {
     "name": "stdout",
     "output_type": "stream",
     "text": [
      "Feature Importance:\n",
      "Age: 0.0503\n",
      "Pace: 0.0142\n",
      "3PAr_Norm: 0.0145\n",
      "TS%: 0.2989\n",
      "eFG%: 0.1221\n",
      "TOV%: 0.0583\n",
      "ORB%: 0.0268\n",
      "FT/FGA: 0.0119\n",
      "OeFG%: 0.3341\n",
      "OTOV%: 0.0312\n",
      "DRB%: 0.0147\n",
      "OFT/FGA: 0.023\n",
      "Model saved as random_forest.pickle\n"
     ]
    },
    {
     "data": {
      "image/png": "[encoded data removed]",
      "text/plain": [
       "<Figure size 864x576 with 1 Axes>"
      ]
     },
     "metadata": {},
     "output_type": "display_data"
    }
   ],
   "source": [
    "rf_feature_importance = dict(zip(x_cols, random_forest.feature_importances_))\n",
    "\n",
    "print('Feature Importance:')\n",
    "rf_fi = dict(zip(x_cols, random_forest.feature_importances_))\n",
    "for key, value in rf_fi.items():\n",
    "  print(key+ \":\", round(value, 4))\n",
    "sns.barplot(\n",
    "  x=list(rf_feature_importance.keys()),\n",
    "  y=list(rf_feature_importance.values()))\n",
    "\n",
    "save_model(random_forest, 'random_forest')"
   ]
  },
  {
   "cell_type": "markdown",
   "metadata": {},
   "source": [
    "Cleary, only a few statistics are needed in determining the win counts. One of the great uses of Random Forest Regression, is that we can use feature elimination to narrow down the best criteria to use."
   ]
  },
  {
   "cell_type": "code",
   "execution_count": 215,
   "metadata": {},
   "outputs": [
    {
     "data": {
      "text/plain": [
       "RFECV(cv=5, estimator=RandomForestRegressor())"
      ]
     },
     "execution_count": 215,
     "metadata": {},
     "output_type": "execute_result"
    }
   ],
   "source": [
    "rfe_estimator = ensemble.RandomForestRegressor()\n",
    "rfe = RFECV(\n",
    "  rfe_estimator, cv=5\n",
    ")\n",
    "rfe.fit(x_train, y_train)"
   ]
  },
  {
   "cell_type": "code",
   "execution_count": null,
   "metadata": {},
   "outputs": [
    {
     "name": "stdout",
     "output_type": "stream",
     "text": [
      "R2 score = 0.85\n",
      "Mean absolute error = 3.89\n",
      "Root mean squared error = 4.93\n"
     ]
    }
   ],
   "source": [
    "score_model(rfe)"
   ]
  },
  {
   "cell_type": "code",
   "execution_count": null,
   "metadata": {},
   "outputs": [
    {
     "name": "stdout",
     "output_type": "stream",
     "text": [
      "Original Features:  ['Age', 'Pace', '3PAr_Norm', 'TS%', 'eFG%', 'TOV%', 'ORB%', 'FT/FGA', 'OeFG%', 'OTOV%', 'DRB%', 'OFT/FGA']\n",
      "Selected Features:  ['Age' 'TS%' 'eFG%' 'TOV%' 'ORB%' 'OeFG%' 'OTOV%' 'OFT/FGA']\n",
      "Removed Features\n",
      "Pace\n",
      "3PAr_Norm\n",
      "FT/FGA\n",
      "DRB%\n",
      "[1 4 2 1 1 1 1 5 1 1 3 1]\n"
     ]
    }
   ],
   "source": [
    "selected_features = np.array(x_cols)[rfe.get_support()]\n",
    "print('Original Features: ', x_cols)\n",
    "print('Selected Features: ', selected_features)\n",
    "print('Removed Features')\n",
    "for s in x_cols:\n",
    "  if not s in selected_features:\n",
    "    print(s)\n",
    "\n",
    "print(rfe.ranking_)"
   ]
  },
  {
   "cell_type": "markdown",
   "metadata": {},
   "source": [
    "The Recursive Feature Elimination sucessfully elimnated 3 features. "
   ]
  },
  {
   "cell_type": "code",
   "execution_count": null,
   "metadata": {},
   "outputs": [
    {
     "name": "stdout",
     "output_type": "stream",
     "text": [
      "Model saved as rfe.pickle\n"
     ]
    }
   ],
   "source": [
    "save_model(rfe, 'rfe')"
   ]
  },
  {
   "cell_type": "markdown",
   "metadata": {},
   "source": [
    "### A Different Feature Selection Model: SelectFromModel\n",
    "This model can be used to eliminate features that aren't effective in predicting the win count."
   ]
  },
  {
   "cell_type": "code",
   "execution_count": null,
   "metadata": {},
   "outputs": [
    {
     "data": {
      "text/plain": [
       "SelectFromModel(estimator=RandomForestRegressor(n_estimators=500))"
      ]
     },
     "execution_count": 163,
     "metadata": {},
     "output_type": "execute_result"
    }
   ],
   "source": [
    "select_from_model_rf = SelectFromModel(\n",
    "  ensemble.RandomForestRegressor(n_estimators=500)\n",
    ")\n",
    "\n",
    "select_from_model_rf.fit(x_train, y_train)"
   ]
  },
  {
   "cell_type": "code",
   "execution_count": null,
   "metadata": {},
   "outputs": [
    {
     "data": {
      "text/plain": [
       "array(['TS%', 'eFG%', 'OeFG%'], dtype=object)"
      ]
     },
     "execution_count": 165,
     "metadata": {},
     "output_type": "execute_result"
    }
   ],
   "source": [
    "select_from_model_rf.get_feature_names_out(select_from_model_rf.feature_names_in_)"
   ]
  },
  {
   "cell_type": "markdown",
   "metadata": {},
   "source": [
    "The SelectFromModel feature selection only needed one feature to determine the win count. So, we can now compare the original Random Forest Model to a new one with only these three columns."
   ]
  },
  {
   "cell_type": "code",
   "execution_count": null,
   "metadata": {},
   "outputs": [
    {
     "data": {
      "text/plain": [
       "RandomForestRegressor(n_estimators=500)"
      ]
     },
     "execution_count": 166,
     "metadata": {},
     "output_type": "execute_result"
    }
   ],
   "source": [
    "random_forest_filtered = ensemble.RandomForestRegressor(n_estimators=500)\n",
    "x_train_filtered = select_from_model_rf.transform(x_train)\n",
    "random_forest_filtered.fit(x_train_filtered, y_train)"
   ]
  },
  {
   "cell_type": "code",
   "execution_count": null,
   "metadata": {},
   "outputs": [
    {
     "name": "stdout",
     "output_type": "stream",
     "text": [
      "R2 score = 0.72\n",
      "Mean absolute error = 5.42\n",
      "Root mean squared error = 6.79\n"
     ]
    }
   ],
   "source": [
    "rf_filtered_pred = random_forest_filtered.predict(\n",
    "  select_from_model_rf.transform(x_test)\n",
    ")\n",
    "\n",
    "print(\"R2 score =\", round(metrics.r2_score(y_test, rf_filtered_pred), 2))\n",
    "print(\"Mean absolute error =\", round(metrics.mean_absolute_error(y_test, rf_filtered_pred), 2)) \n",
    "print(\"Root mean squared error =\", round(math.sqrt(metrics.mean_squared_error(y_test, rf_filtered_pred)), 2))"
   ]
  },
  {
   "cell_type": "code",
   "execution_count": null,
   "metadata": {},
   "outputs": [
    {
     "name": "stdout",
     "output_type": "stream",
     "text": [
      "Model saved as filtered_random_forest.pickle\n"
     ]
    }
   ],
   "source": [
    "save_model(random_forest_filtered, 'filtered_random_forest')"
   ]
  },
  {
   "cell_type": "markdown",
   "metadata": {},
   "source": [
    "With only one factor, the RandomForest model was able to predict with the level of accuracy rivialing that of the model that took into account all 16 factors."
   ]
  },
  {
   "cell_type": "markdown",
   "metadata": {},
   "source": [
    "### Gradient Boosting Regressor\n",
    "This is a tree based model that helps to strengthen the predictions made by trees, by boosting them with gradient algorithms."
   ]
  },
  {
   "cell_type": "code",
   "execution_count": null,
   "metadata": {},
   "outputs": [
    {
     "data": {
      "text/plain": [
       "GradientBoostingRegressor(n_estimators=500)"
      ]
     },
     "execution_count": 178,
     "metadata": {},
     "output_type": "execute_result"
    }
   ],
   "source": [
    "gbr = ensemble.GradientBoostingRegressor(\n",
    "  n_estimators=500)\n",
    "\n",
    "gbr.fit(x_train, y_train)"
   ]
  },
  {
   "cell_type": "code",
   "execution_count": null,
   "metadata": {},
   "outputs": [
    {
     "name": "stdout",
     "output_type": "stream",
     "text": [
      "R2 score = 0.91\n",
      "Mean absolute error = 3.1\n",
      "Root mean squared error = 3.95\n"
     ]
    }
   ],
   "source": [
    "score_model(gbr)"
   ]
  },
  {
   "cell_type": "code",
   "execution_count": null,
   "metadata": {},
   "outputs": [
    {
     "name": "stdout",
     "output_type": "stream",
     "text": [
      "Feature Importance:\n",
      "{'3PAr_Norm': 0.00686861336649283,\n",
      " 'Age': 0.1221188226166995,\n",
      " 'DRB%': 0.02392167650699476,\n",
      " 'FT/FGA': 0.019953641216076776,\n",
      " 'OFT/FGA': 0.043778193362274065,\n",
      " 'ORB%': 0.04436420798239855,\n",
      " 'OTOV%': 0.03859554406618678,\n",
      " 'OeFG%': 0.3143232767513929,\n",
      " 'Pace': 0.006920144108445233,\n",
      " 'TOV%': 0.06530356494693466,\n",
      " 'TS%': 0.13813735134618593,\n",
      " 'eFG%': 0.17571496372991813}\n",
      "Model saved as gbr.pickle\n"
     ]
    },
    {
     "data": {
      "image/png": "[encoded data removed]",
      "text/plain": [
       "<Figure size 864x576 with 1 Axes>"
      ]
     },
     "metadata": {},
     "output_type": "display_data"
    }
   ],
   "source": [
    "gbr_feature_importance = dict(zip(x_cols, gbr.feature_importances_))\n",
    "\n",
    "print('Feature Importance:')\n",
    "pprint(gbr_feature_importance)\n",
    "sns.barplot(\n",
    "  x=list(gbr_feature_importance.keys()),\n",
    "  y=list(gbr_feature_importance.values()))\n",
    "\n",
    "save_model(gbr, 'gbr')"
   ]
  },
  {
   "cell_type": "markdown",
   "metadata": {},
   "source": [
    "We can now filter the model with the same kind of filtering used on Random Forest Regression."
   ]
  },
  {
   "cell_type": "code",
   "execution_count": 200,
   "metadata": {},
   "outputs": [
    {
     "data": {
      "text/plain": [
       "array(['Age', 'TS%', 'eFG%', 'OeFG%'], dtype=object)"
      ]
     },
     "execution_count": 200,
     "metadata": {},
     "output_type": "execute_result"
    }
   ],
   "source": [
    "select_from_model_gbr = SelectFromModel(\n",
    "  gbr, prefit=True\n",
    ")\n",
    "\n",
    "select_from_model_gbr.get_feature_names_out(x_cols)"
   ]
  },
  {
   "cell_type": "code",
   "execution_count": 211,
   "metadata": {},
   "outputs": [
    {
     "name": "stderr",
     "output_type": "stream",
     "text": [
      "/Users/pgarg/opt/anaconda3/envs/nba-data-analysis/lib/python3.9/site-packages/sklearn/base.py:443: UserWarning: X has feature names, but SelectFromModel was fitted without feature names\n",
      "  warnings.warn(\n"
     ]
    },
    {
     "name": "stdout",
     "output_type": "stream",
     "text": [
      "(881, 12) (881, 4) (881,)\n"
     ]
    },
    {
     "data": {
      "text/plain": [
       "GradientBoostingRegressor(n_estimators=500)"
      ]
     },
     "execution_count": 211,
     "metadata": {},
     "output_type": "execute_result"
    }
   ],
   "source": [
    "gbr_filtered = ensemble.GradientBoostingRegressor(n_estimators=500)\n",
    "x_train_gbr_filtered = select_from_model_gbr.transform(x_train)\n",
    "print(x_train.shape, x_train_gbr_filtered.shape, y_train.shape)\n",
    "gbr_filtered.fit(x_train_gbr_filtered, y_train)"
   ]
  },
  {
   "cell_type": "code",
   "execution_count": 214,
   "metadata": {},
   "outputs": [
    {
     "name": "stdout",
     "output_type": "stream",
     "text": [
      "R2 score = 0.66\n",
      "Mean absolute error = 5.89\n",
      "Root mean squared error = 7.74\n"
     ]
    },
    {
     "name": "stderr",
     "output_type": "stream",
     "text": [
      "/Users/pgarg/opt/anaconda3/envs/nba-data-analysis/lib/python3.9/site-packages/sklearn/base.py:443: UserWarning: X has feature names, but SelectFromModel was fitted without feature names\n",
      "  warnings.warn(\n"
     ]
    }
   ],
   "source": [
    "gbr_filtered_pred = gbr_filtered.predict(\n",
    "  select_from_model_gbr.transform(x_test)\n",
    ")\n",
    "\n",
    "print(\"R2 score =\", round(metrics.r2_score(y_test, gbr_filtered_pred), 2))\n",
    "print(\"Mean absolute error =\", round(metrics.mean_absolute_error(y_test, gbr_filtered_pred), 2)) \n",
    "print(\"Root mean squared error =\", round(math.sqrt(metrics.mean_squared_error(y_test, gbr_filtered_pred)), 2))"
   ]
  },
  {
   "cell_type": "code",
   "execution_count": 219,
   "metadata": {},
   "outputs": [
    {
     "data": {
      "text/plain": [
       "RFECV(cv=5, estimator=GradientBoostingRegressor())"
      ]
     },
     "execution_count": 219,
     "metadata": {},
     "output_type": "execute_result"
    }
   ],
   "source": [
    "gbr_rfe_estimator = ensemble.GradientBoostingRegressor()\n",
    "gbr_rfe = RFECV(\n",
    "  gbr_rfe_estimator, cv=5\n",
    ")\n",
    "gbr_rfe.fit(x_train, y_train)"
   ]
  },
  {
   "cell_type": "code",
   "execution_count": 220,
   "metadata": {},
   "outputs": [
    {
     "name": "stdout",
     "output_type": "stream",
     "text": [
      "R2 score = 0.89\n",
      "Mean absolute error = 3.49\n",
      "Root mean squared error = 4.46\n"
     ]
    }
   ],
   "source": [
    "score_model(gbr_rfe)"
   ]
  },
  {
   "cell_type": "code",
   "execution_count": 222,
   "metadata": {},
   "outputs": [
    {
     "name": "stdout",
     "output_type": "stream",
     "text": [
      "Original Features:  ['Age', 'Pace', '3PAr_Norm', 'TS%', 'eFG%', 'TOV%', 'ORB%', 'FT/FGA', 'OeFG%', 'OTOV%', 'DRB%', 'OFT/FGA']\n",
      "Selected Features:  ['Age' 'TS%' 'eFG%' 'TOV%' 'ORB%' 'OeFG%' 'OTOV%' 'DRB%' 'OFT/FGA']\n",
      "Removed Features\n",
      "Pace\n",
      "3PAr_Norm\n",
      "FT/FGA\n",
      "[1 3 4 1 1 1 1 2 1 1 1 1]\n"
     ]
    }
   ],
   "source": [
    "selected_features = np.array(x_cols)[gbr_rfe.get_support()]\n",
    "print('Original Features: ', x_cols)\n",
    "print('Selected Features: ', selected_features)\n",
    "print('Removed Features')\n",
    "for s in x_cols:\n",
    "  if not s in selected_features:\n",
    "    print(s)\n",
    "\n",
    "print(rfe.ranking_)"
   ]
  }
 ],
 "metadata": {
  "interpreter": {
   "hash": "f297435e7483730f90c95e4704d8a04a13ec840de4923b2310ae22b6393e10ed"
  },
  "kernelspec": {
   "display_name": "Python 3.9.7 64-bit ('nba-data-analysis': conda)",
   "language": "python",
   "name": "python3"
  },
  "language_info": {
   "codemirror_mode": {
    "name": "ipython",
    "version": 3
   },
   "file_extension": ".py",
   "mimetype": "text/x-python",
   "name": "python",
   "nbconvert_exporter": "python",
   "pygments_lexer": "ipython3",
   "version": "3.9.7"
  },
  "orig_nbformat": 4
 },
 "nbformat": 4,
 "nbformat_minor": 2
}
