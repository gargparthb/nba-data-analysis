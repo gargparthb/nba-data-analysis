{
 "cells": [
  {
   "cell_type": "code",
   "execution_count": 13,
   "metadata": {},
   "outputs": [],
   "source": [
    "import pandas as pd\n",
    "import numpy as np\n",
    "from sklearn.model_selection import train_test_split\n",
    "from sklearn import tree\n",
    "from sklearn import ensemble\n",
    "from sklearn.feature_selection import RFECV\n",
    "from sklearn.feature_selection import SelectFromModel\n",
    "from sklearn import metrics\n",
    "import math\n",
    "from pprint import pprint\n",
    "import pickle\n",
    "import matplotlib.pyplot as plt\n",
    "import seaborn as sns\n",
    "%matplotlib inline\n",
    "sns.set_style('whitegrid')\n",
    "sns.set(rc={'figure.figsize':(12,8)})"
   ]
  },
  {
   "cell_type": "code",
   "execution_count": 14,
   "metadata": {},
   "outputs": [],
   "source": [
    "def score_model(model):\n",
    "  y_pred = model.predict(x_test)\n",
    "  print(\"R2 score =\", round(metrics.r2_score(y_test, y_pred), 2))\n",
    "  print(\"Mean absolute error =\", round(metrics.mean_absolute_error(y_test, y_pred), 2)) \n",
    "  print(\"Root mean squared error =\", round(math.sqrt(metrics.mean_squared_error(y_test, y_pred)), 2))\n",
    "\n",
    "def save_model(model, filename):\n",
    "  with open(\"../models/tree_models/\" + filename + \".pickle\", \"wb\") as f:\n",
    "    pickle.dump(model, f)\n",
    "  print('Model saved as ' + filename + '.pickle')"
   ]
  },
  {
   "cell_type": "markdown",
   "metadata": {},
   "source": [
    "### Loading and Splitting the Data"
   ]
  },
  {
   "cell_type": "code",
   "execution_count": 15,
   "metadata": {},
   "outputs": [
    {
     "name": "stdout",
     "output_type": "stream",
     "text": [
      "(957, 16) (957,) (169, 16) (169,)\n"
     ]
    }
   ],
   "source": [
    "data = pd.read_csv('../data/teams_normalized.csv')\n",
    "\n",
    "# separating the dataset into section ready for model fitting\n",
    "train, test = train_test_split(data, test_size=0.15, train_size=0.85)\n",
    "x_cols = ['Age', 'ORtg', 'DRtg', 'NRtg', 'Pace', '3PAr_Norm', 'FTr', 'TS%', 'eFG%', 'TOV%', 'ORB%', 'FT/FGA', 'OeFG%', 'OTOV%', 'DRB%', 'OFT/FGA']\n",
    "y_col = 'W'\n",
    "\n",
    "x_train = train[x_cols]\n",
    "y_train = train[y_col]\n",
    "x_test= test[x_cols]\n",
    "y_test = test[y_col]\n",
    "\n",
    "print(x_train.shape, y_train.shape, x_test.shape, y_test.shape)"
   ]
  },
  {
   "cell_type": "markdown",
   "metadata": {},
   "source": [
    "### Training the Model\n",
    "We can select the loss function as the criterion for the decision tree."
   ]
  },
  {
   "cell_type": "code",
   "execution_count": 16,
   "metadata": {},
   "outputs": [
    {
     "data": {
      "text/plain": [
       "DecisionTreeRegressor(max_depth=7)"
      ]
     },
     "execution_count": 16,
     "metadata": {},
     "output_type": "execute_result"
    }
   ],
   "source": [
    "decision_tree = tree.DecisionTreeRegressor(\n",
    "  max_depth=7\n",
    ")\n",
    "\n",
    "decision_tree.fit(x_train, y_train)"
   ]
  },
  {
   "cell_type": "markdown",
   "metadata": {},
   "source": [
    "### Evaluating the Model"
   ]
  },
  {
   "cell_type": "code",
   "execution_count": 17,
   "metadata": {},
   "outputs": [
    {
     "name": "stdout",
     "output_type": "stream",
     "text": [
      "R2 score = 0.86\n",
      "Mean absolute error = 3.47\n",
      "Root mean squared error = 4.82\n"
     ]
    }
   ],
   "source": [
    "score_model(decision_tree)"
   ]
  },
  {
   "cell_type": "code",
   "execution_count": 18,
   "metadata": {},
   "outputs": [
    {
     "name": "stdout",
     "output_type": "stream",
     "text": [
      "Feature Importance:\n",
      "{'3PAr_Norm': 0.0029690081395694857,\n",
      " 'Age': 0.004794967418843882,\n",
      " 'DRB%': 0.0018618092297703777,\n",
      " 'DRtg': 0.009509999931919892,\n",
      " 'FT/FGA': 0.0021070392030403213,\n",
      " 'FTr': 0.0015176338880415,\n",
      " 'NRtg': 0.9418114943339985,\n",
      " 'OFT/FGA': 0.003327766418580151,\n",
      " 'ORB%': 0.0022402359250088878,\n",
      " 'ORtg': 0.003963408421453262,\n",
      " 'OTOV%': 0.0008064056142813738,\n",
      " 'OeFG%': 0.005365789163628547,\n",
      " 'Pace': 0.012682475113220735,\n",
      " 'TOV%': 8.533077607197929e-05,\n",
      " 'TS%': 0.004922988943953018,\n",
      " 'eFG%': 0.002033647478617949}\n"
     ]
    }
   ],
   "source": [
    "print('Feature Importance:')\n",
    "pprint(\n",
    "  dict(zip(x_cols, decision_tree.feature_importances_))\n",
    "  )"
   ]
  },
  {
   "cell_type": "markdown",
   "metadata": {},
   "source": [
    "This model relies heavily on the Net Rating metric, and pretty minimizes all the other columns."
   ]
  },
  {
   "cell_type": "code",
   "execution_count": 19,
   "metadata": {},
   "outputs": [
    {
     "name": "stdout",
     "output_type": "stream",
     "text": [
      "Model saved as decision_tree.pickle\n"
     ]
    }
   ],
   "source": [
    "tree.export_graphviz(\n",
    "  decision_tree, \n",
    "  out_file='../models/tree_models/decision_tree.dot',\n",
    "  feature_names=x_cols)\n",
    "\n",
    "save_model(decision_tree, 'decision_tree')"
   ]
  },
  {
   "cell_type": "markdown",
   "metadata": {},
   "source": [
    "With this .dot file, we can visualize the actual decision tree the computer uses to calculate win totals. "
   ]
  },
  {
   "cell_type": "markdown",
   "metadata": {},
   "source": [
    "### Random Forest Regression\n",
    "With the decison tree model, we can only have one tree, which limits the amount of computation, but with the RandomForest model we can use many different trees to make a forest and then make a compiled result. "
   ]
  },
  {
   "cell_type": "code",
   "execution_count": 60,
   "metadata": {},
   "outputs": [
    {
     "data": {
      "text/plain": [
       "RandomForestRegressor(n_estimators=500)"
      ]
     },
     "execution_count": 60,
     "metadata": {},
     "output_type": "execute_result"
    }
   ],
   "source": [
    "random_forest = ensemble.RandomForestRegressor(\n",
    "  n_estimators=500\n",
    ")\n",
    "\n",
    "random_forest.fit(x_train, y_train)"
   ]
  },
  {
   "cell_type": "code",
   "execution_count": 61,
   "metadata": {},
   "outputs": [
    {
     "name": "stdout",
     "output_type": "stream",
     "text": [
      "R2 score = 0.88\n",
      "Mean absolute error = 3.25\n",
      "Root mean squared error = 4.42\n"
     ]
    }
   ],
   "source": [
    "score_model(random_forest)"
   ]
  },
  {
   "cell_type": "code",
   "execution_count": 89,
   "metadata": {},
   "outputs": [
    {
     "name": "stdout",
     "output_type": "stream",
     "text": [
      "Feature Importance:\n",
      "{'3PAr_Norm': 0.005100486354266728,\n",
      " 'Age': 0.008519125844974464,\n",
      " 'DRB%': 0.005647739890577293,\n",
      " 'DRtg': 0.008191549093166302,\n",
      " 'FT/FGA': 0.004775768508115044,\n",
      " 'FTr': 0.004299020280778239,\n",
      " 'NRtg': 0.9027044307991969,\n",
      " 'OFT/FGA': 0.006774031592180537,\n",
      " 'ORB%': 0.00455698061938145,\n",
      " 'ORtg': 0.007340651304054999,\n",
      " 'OTOV%': 0.004358324994212535,\n",
      " 'OeFG%': 0.008780963539916158,\n",
      " 'Pace': 0.01298038767829752,\n",
      " 'TOV%': 0.0043780132209433244,\n",
      " 'TS%': 0.005960738460703943,\n",
      " 'eFG%': 0.005631787819234621}\n",
      "Model saved as random_forest.pickle\n"
     ]
    },
    {
     "data": {
      "image/png": "[encoded data removed]",
      "text/plain": [
       "<Figure size 864x576 with 1 Axes>"
      ]
     },
     "metadata": {},
     "output_type": "display_data"
    }
   ],
   "source": [
    "rf_feature_importance = dict(zip(x_cols, random_forest.feature_importances_))\n",
    "\n",
    "print('Feature Importance:')\n",
    "pprint(rf_feature_importance)\n",
    "sns.barplot(\n",
    "  x=list(rf_feature_importance.keys()),\n",
    "  y=list(rf_feature_importance.values()))\n",
    "\n",
    "save_model(random_forest, 'random_forest')"
   ]
  },
  {
   "cell_type": "markdown",
   "metadata": {},
   "source": [
    "Cleary, only a few statistics are needed in determining the win counts. One of the great uses of Random Forest Regression, is that we can use feature elimination to narrow down the best criteria to use."
   ]
  },
  {
   "cell_type": "code",
   "execution_count": 23,
   "metadata": {},
   "outputs": [
    {
     "data": {
      "text/plain": [
       "RFECV(cv=5, estimator=RandomForestRegressor(), scoring='neg_mean_squared_error')"
      ]
     },
     "execution_count": 23,
     "metadata": {},
     "output_type": "execute_result"
    }
   ],
   "source": [
    "rfe_estimator = ensemble.RandomForestRegressor()\n",
    "rfe = RFECV(\n",
    "  rfe_estimator, cv=5, scoring='neg_mean_squared_error'\n",
    ")\n",
    "rfe.fit(x_train, y_train)"
   ]
  },
  {
   "cell_type": "code",
   "execution_count": 24,
   "metadata": {},
   "outputs": [
    {
     "name": "stdout",
     "output_type": "stream",
     "text": [
      "R2 score = 0.88\n",
      "Mean absolute error = 3.26\n",
      "Root mean squared error = 4.44\n"
     ]
    }
   ],
   "source": [
    "score_model(rfe)"
   ]
  },
  {
   "cell_type": "code",
   "execution_count": 25,
   "metadata": {},
   "outputs": [
    {
     "name": "stdout",
     "output_type": "stream",
     "text": [
      "Original Features:  ['Age', 'ORtg', 'DRtg', 'NRtg', 'Pace', '3PAr_Norm', 'FTr', 'TS%', 'eFG%', 'TOV%', 'ORB%', 'FT/FGA', 'OeFG%', 'OTOV%', 'DRB%', 'OFT/FGA']\n",
      "Selected Features:  ['Age' 'ORtg' 'DRtg' 'NRtg' 'Pace' '3PAr_Norm' 'eFG%' 'FT/FGA' 'OeFG%'\n",
      " 'DRB%' 'OFT/FGA']\n"
     ]
    }
   ],
   "source": [
    "selected_features = np.array(x_cols)[rfe.get_support()]\n",
    "print('Original Features: ', x_cols)\n",
    "print('Selected Features: ', selected_features)"
   ]
  },
  {
   "cell_type": "markdown",
   "metadata": {},
   "source": [
    "The Recursive Feature Elimination sucessfully elimnated 3 features. "
   ]
  },
  {
   "cell_type": "code",
   "execution_count": 31,
   "metadata": {},
   "outputs": [
    {
     "name": "stdout",
     "output_type": "stream",
     "text": [
      "Model saved as rfe.pickle\n"
     ]
    }
   ],
   "source": [
    "save_model(rfe, 'rfe')"
   ]
  },
  {
   "cell_type": "markdown",
   "metadata": {},
   "source": [
    "### A Different Feature Selection Model: SelectFromModel\n",
    "This model can be used to eliminate features that aren't effective in predicting the win count."
   ]
  },
  {
   "cell_type": "code",
   "execution_count": 42,
   "metadata": {},
   "outputs": [
    {
     "data": {
      "text/plain": [
       "SelectFromModel(estimator=RandomForestRegressor(n_estimators=500))"
      ]
     },
     "execution_count": 42,
     "metadata": {},
     "output_type": "execute_result"
    }
   ],
   "source": [
    "select_from_model_rf = SelectFromModel(\n",
    "  ensemble.RandomForestRegressor(n_estimators=500)\n",
    ")\n",
    "\n",
    "select_from_model_rf.fit(x_train, y_train)"
   ]
  },
  {
   "cell_type": "code",
   "execution_count": 44,
   "metadata": {},
   "outputs": [
    {
     "data": {
      "text/plain": [
       "array(['NRtg'], dtype=object)"
      ]
     },
     "execution_count": 44,
     "metadata": {},
     "output_type": "execute_result"
    }
   ],
   "source": [
    "select_from_model_rf.get_feature_names_out(select_from_model_rf.feature_names_in_)"
   ]
  },
  {
   "cell_type": "markdown",
   "metadata": {},
   "source": [
    "The SelectFromModel feature selection only needed one feature to determine the win count. So, we can now compare the original Random Forest Model to a new one with only these three columns."
   ]
  },
  {
   "cell_type": "code",
   "execution_count": 55,
   "metadata": {},
   "outputs": [
    {
     "data": {
      "text/plain": [
       "RandomForestRegressor(n_estimators=500)"
      ]
     },
     "execution_count": 55,
     "metadata": {},
     "output_type": "execute_result"
    }
   ],
   "source": [
    "random_forest_filtered = ensemble.RandomForestRegressor(n_estimators=500)\n",
    "x_train_filtered = select_from_model_rf.transform(x_train)\n",
    "random_forest_filtered.fit(x_train_filtered, y_train)"
   ]
  },
  {
   "cell_type": "code",
   "execution_count": 56,
   "metadata": {},
   "outputs": [
    {
     "name": "stdout",
     "output_type": "stream",
     "text": [
      "R2 score = 0.85\n",
      "Mean absolute error = 3.66\n",
      "Root mean squared error = 5.02\n"
     ]
    }
   ],
   "source": [
    "rf_filtered_pred = random_forest_filtered.predict(\n",
    "  select_from_model_rf.transform(x_test)\n",
    ")\n",
    "\n",
    "print(\"R2 score =\", round(metrics.r2_score(y_test, rf_filtered_pred), 2))\n",
    "print(\"Mean absolute error =\", round(metrics.mean_absolute_error(y_test, rf_filtered_pred), 2)) \n",
    "print(\"Root mean squared error =\", round(math.sqrt(metrics.mean_squared_error(y_test, rf_filtered_pred)), 2))"
   ]
  },
  {
   "cell_type": "code",
   "execution_count": 62,
   "metadata": {},
   "outputs": [
    {
     "name": "stdout",
     "output_type": "stream",
     "text": [
      "Model saved as filtered_random_forest.pickle\n"
     ]
    }
   ],
   "source": [
    "save_model(random_forest_filtered, 'filtered_random_forest')"
   ]
  },
  {
   "cell_type": "markdown",
   "metadata": {},
   "source": [
    "With only one factor, the RandomForest model was able to predict with the level of accuracy rivialing that of the model that took into account all 16 factors."
   ]
  },
  {
   "cell_type": "markdown",
   "metadata": {},
   "source": [
    "### Gradient Boosting Regressor\n",
    "This is a tree based model that helps to strengthen the predictions made by trees, by boosting them with gradient algorithms."
   ]
  },
  {
   "cell_type": "code",
   "execution_count": 83,
   "metadata": {},
   "outputs": [
    {
     "data": {
      "text/plain": [
       "GradientBoostingRegressor(max_features='sqrt', n_estimators=500)"
      ]
     },
     "execution_count": 83,
     "metadata": {},
     "output_type": "execute_result"
    }
   ],
   "source": [
    "gbr = ensemble.GradientBoostingRegressor(\n",
    "  n_estimators=500,\n",
    "  max_features='sqrt')\n",
    "\n",
    "gbr.fit(x_train, y_train)"
   ]
  },
  {
   "cell_type": "code",
   "execution_count": 84,
   "metadata": {},
   "outputs": [
    {
     "name": "stdout",
     "output_type": "stream",
     "text": [
      "R2 score = 0.88\n",
      "Mean absolute error = 3.36\n",
      "Root mean squared error = 4.37\n"
     ]
    }
   ],
   "source": [
    "score_model(gbr)"
   ]
  },
  {
   "cell_type": "code",
   "execution_count": 88,
   "metadata": {},
   "outputs": [
    {
     "name": "stdout",
     "output_type": "stream",
     "text": [
      "Feature Importance:\n",
      "{'3PAr_Norm': 0.0036482750805640566,\n",
      " 'Age': 0.025308053154469524,\n",
      " 'DRB%': 0.004759734810668786,\n",
      " 'DRtg': 0.09252955418754118,\n",
      " 'FT/FGA': 0.005849687510892144,\n",
      " 'FTr': 0.003339430745249531,\n",
      " 'NRtg': 0.471295944976977,\n",
      " 'OFT/FGA': 0.006120139956615701,\n",
      " 'ORB%': 0.00783451012345615,\n",
      " 'ORtg': 0.17550082034384581,\n",
      " 'OTOV%': 0.002997545502330415,\n",
      " 'OeFG%': 0.07880284320493662,\n",
      " 'Pace': 0.01209286422556103,\n",
      " 'TOV%': 0.006637715775846339,\n",
      " 'TS%': 0.08020147220575886,\n",
      " 'eFG%': 0.023081408195286805}\n",
      "Model saved as gbr.pickle\n"
     ]
    },
    {
     "data": {
      "image/png": "[encoded data removed]",
      "text/plain": [
       "<Figure size 864x576 with 1 Axes>"
      ]
     },
     "metadata": {},
     "output_type": "display_data"
    }
   ],
   "source": [
    "gbr_feature_importance = dict(zip(x_cols, gbr.feature_importances_))\n",
    "\n",
    "print('Feature Importance:')\n",
    "pprint(gbr_feature_importance)\n",
    "sns.barplot(\n",
    "  x=list(gbr_feature_importance.keys()),\n",
    "  y=list(gbr_feature_importance.values()))\n",
    "\n",
    "save_model(gbr, 'gbr')"
   ]
  }
 ],
 "metadata": {
  "interpreter": {
   "hash": "f297435e7483730f90c95e4704d8a04a13ec840de4923b2310ae22b6393e10ed"
  },
  "kernelspec": {
   "display_name": "Python 3.9.7 64-bit ('nba-data-analysis': conda)",
   "language": "python",
   "name": "python3"
  },
  "language_info": {
   "codemirror_mode": {
    "name": "ipython",
    "version": 3
   },
   "file_extension": ".py",
   "mimetype": "text/x-python",
   "name": "python",
   "nbconvert_exporter": "python",
   "pygments_lexer": "ipython3",
   "version": "3.9.7"
  },
  "orig_nbformat": 4
 },
 "nbformat": 4,
 "nbformat_minor": 2
}
