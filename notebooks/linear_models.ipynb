{
 "cells": [
  {
   "cell_type": "code",
   "execution_count": 322,
   "metadata": {},
   "outputs": [],
   "source": [
    "import pandas as pd\n",
    "import numpy as np\n",
    "from sklearn.model_selection import train_test_split\n",
    "from sklearn import linear_model\n",
    "from sklearn.preprocessing import StandardScaler\n",
    "from sklearn.pipeline import Pipeline\n",
    "from sklearn import metrics\n",
    "import math\n",
    "import pprint\n",
    "import pickle"
   ]
  },
  {
   "cell_type": "markdown",
   "metadata": {},
   "source": [
    "### Train-Test Spliting of the Data"
   ]
  },
  {
   "cell_type": "code",
   "execution_count": 323,
   "metadata": {},
   "outputs": [
    {
     "name": "stdout",
     "output_type": "stream",
     "text": [
      "(957, 16) (957,) (169, 16) (169,)\n"
     ]
    }
   ],
   "source": [
    "data = pd.read_csv('../data/teams_normalized.csv')\n",
    "\n",
    "# separating the dataset into section ready for model fitting\n",
    "train, test = train_test_split(data, test_size=0.15, train_size=0.85)\n",
    "x_cols = ['Age', 'ORtg', 'DRtg', 'NRtg', 'Pace', '3PAr_Norm', 'FTr', 'TS%', 'eFG%', 'TOV%', 'ORB%', 'FT/FGA', 'OeFG%', 'OTOV%', 'DRB%', 'OFT/FGA']\n",
    "y_col = 'W'\n",
    "\n",
    "x_train = train[x_cols]\n",
    "y_train = train[y_col]\n",
    "x_test= test[x_cols]\n",
    "y_test = test[y_col]\n",
    "\n",
    "print(x_train.shape, y_train.shape, x_test.shape, y_test.shape)"
   ]
  },
  {
   "cell_type": "markdown",
   "metadata": {},
   "source": [
    "Here we define some utilities for each of the models we will use."
   ]
  },
  {
   "cell_type": "code",
   "execution_count": 344,
   "metadata": {},
   "outputs": [],
   "source": [
    "def create_model(model_name, model):\n",
    "  pipeline = Pipeline(\n",
    "     steps=[('scaler', StandardScaler()), (model_name, model)]\n",
    "  )\n",
    "  pipeline.fit(x_train, y_train)\n",
    "  return pipeline\n",
    "\n",
    "def score_model(model):\n",
    "  y_pred = model.predict(x_test)\n",
    "  print(\"R2 score =\", round(metrics.r2_score(y_test, y_pred), 2))\n",
    "  print(\"Mean absolute error =\", round(metrics.mean_absolute_error(y_test, y_pred), 2)) \n",
    "  print(\"Root mean squared error =\", round(math.sqrt(metrics.mean_squared_error(y_test, y_pred)), 2))\n",
    "\n",
    "def unpack_model(model_name, model):\n",
    "  estimator = model.named_steps[model_name]\n",
    "  pprint.pprint(dict(zip(x_cols, estimator.coef_)))\n",
    "  print(\"Intercept: \", estimator.intercept_) \n",
    "\n",
    "def save_model(model, filename):\n",
    "  with open(\"../models/linear_models/\" + filename + \".pickle\", \"wb\") as f:\n",
    "    pickle.dump(model, f)"
   ]
  },
  {
   "cell_type": "markdown",
   "metadata": {},
   "source": [
    "### Linear Regression\n",
    "We can now run the linear regression algorithm on the split data."
   ]
  },
  {
   "cell_type": "code",
   "execution_count": 339,
   "metadata": {},
   "outputs": [],
   "source": [
    "linear_regression = create_model('lr', linear_model.LinearRegression())"
   ]
  },
  {
   "cell_type": "markdown",
   "metadata": {},
   "source": [
    "#### Scoring the Linear Regression Model"
   ]
  },
  {
   "cell_type": "code",
   "execution_count": 340,
   "metadata": {},
   "outputs": [
    {
     "name": "stdout",
     "output_type": "stream",
     "text": [
      "R2 score = 0.88\n",
      "Mean absolute error = 2.99\n",
      "Root mean squared error = 4.18\n"
     ]
    }
   ],
   "source": [
    "score_model(linear_regression)"
   ]
  },
  {
   "cell_type": "markdown",
   "metadata": {},
   "source": [
    "#### Unpacking the Linear Regression Model"
   ]
  },
  {
   "cell_type": "code",
   "execution_count": 343,
   "metadata": {},
   "outputs": [
    {
     "name": "stdout",
     "output_type": "stream",
     "text": [
      "{'3PAr_Norm': 0.048828125,\n",
      " 'Age': 0.6187052840365252,\n",
      " 'DRB%': 1.22802734375,\n",
      " 'DRtg': 58418151458314.05,\n",
      " 'FT/FGA': 4.5068359375,\n",
      " 'FTr': -2.8251953125,\n",
      " 'NRtg': 79320437339908.38,\n",
      " 'OFT/FGA': -0.837890625,\n",
      " 'ORB%': 2.903564453125,\n",
      " 'ORtg': -62326106803322.11,\n",
      " 'OTOV%': 1.27197265625,\n",
      " 'OeFG%': -2.4921875,\n",
      " 'Pace': 0.21484375,\n",
      " 'TOV%': -2.431640625,\n",
      " 'TS%': -2.8125,\n",
      " 'eFG%': 7.45703125}\n",
      "Intercept:  40.13777439707633\n"
     ]
    }
   ],
   "source": [
    "unpack_model('lr', linear_regression)"
   ]
  },
  {
   "cell_type": "markdown",
   "metadata": {},
   "source": [
    "While this model is quite accurate, some of the coeficients have really high values, which is a symptom of over fitting. The liner regression model is trying to match the results too acurately, that the algorithm is too data specific."
   ]
  },
  {
   "cell_type": "markdown",
   "metadata": {},
   "source": [
    "#### Saving the Linear Regression Model"
   ]
  },
  {
   "cell_type": "code",
   "execution_count": 345,
   "metadata": {},
   "outputs": [],
   "source": [
    "save_model(linear_regression, 'linear_regression')"
   ]
  },
  {
   "cell_type": "markdown",
   "metadata": {},
   "source": [
    "### Ridge Model\n",
    "Since the Linear model has some extremely high coeficient values, we can now use the Ridge model to remedy the overfitting.  "
   ]
  },
  {
   "cell_type": "code",
   "execution_count": 346,
   "metadata": {},
   "outputs": [],
   "source": [
    "ridge = create_model('ridge', linear_model.Ridge(alpha=0.5))"
   ]
  },
  {
   "cell_type": "markdown",
   "metadata": {},
   "source": [
    "#### Scoring the Ridge Regression Model"
   ]
  },
  {
   "cell_type": "code",
   "execution_count": 347,
   "metadata": {},
   "outputs": [
    {
     "name": "stdout",
     "output_type": "stream",
     "text": [
      "R2 score = 0.88\n",
      "Mean absolute error = 2.99\n",
      "Root mean squared error = 4.19\n"
     ]
    }
   ],
   "source": [
    "score_model(ridge)"
   ]
  },
  {
   "cell_type": "markdown",
   "metadata": {},
   "source": [
    "#### Unpacking the Ridge Model"
   ]
  },
  {
   "cell_type": "code",
   "execution_count": 348,
   "metadata": {},
   "outputs": [
    {
     "name": "stdout",
     "output_type": "stream",
     "text": [
      "{'3PAr_Norm': 0.050540117811299065,\n",
      " 'Age': 0.5748525060142323,\n",
      " 'DRB%': 1.1591164070949584,\n",
      " 'DRtg': -2.9895775606855484,\n",
      " 'FT/FGA': 2.132089172297543,\n",
      " 'FTr': -1.3404175465687957,\n",
      " 'NRtg': 3.5180028060619373,\n",
      " 'OFT/FGA': -0.8280646998766574,\n",
      " 'ORB%': 2.814525053418911,\n",
      " 'ORtg': 1.6751235037427543,\n",
      " 'OTOV%': 1.212752384741614,\n",
      " 'OeFG%': -2.4504296614507934,\n",
      " 'Pace': 0.18865012740612996,\n",
      " 'TOV%': -2.3641834923012577,\n",
      " 'TS%': 0.8263328778974907,\n",
      " 'eFG%': 3.8644050304154796}\n",
      "Intercept:  40.09613375130616\n"
     ]
    }
   ],
   "source": [
    "unpack_model('ridge', ridge)"
   ]
  },
  {
   "cell_type": "markdown",
   "metadata": {},
   "source": [
    "These coefficients are all much more reasonable in magnitude as compared to the prior regression model"
   ]
  },
  {
   "cell_type": "markdown",
   "metadata": {},
   "source": [
    "#### Saving the Ridge Model"
   ]
  },
  {
   "cell_type": "code",
   "execution_count": 349,
   "metadata": {},
   "outputs": [],
   "source": [
    "save_model(ridge, 'ridge')"
   ]
  },
  {
   "cell_type": "markdown",
   "metadata": {},
   "source": [
    "### The Lasso Model\n",
    "Since this data has many columns, we might want the ability to wittle down the effective columns and for this we employ the lasso model."
   ]
  },
  {
   "cell_type": "code",
   "execution_count": 350,
   "metadata": {},
   "outputs": [],
   "source": [
    "lasso = create_model('lasso', linear_model.Lasso(alpha=0.1))"
   ]
  },
  {
   "cell_type": "markdown",
   "metadata": {},
   "source": [
    "#### Scoring the Lasso Model"
   ]
  },
  {
   "cell_type": "code",
   "execution_count": 334,
   "metadata": {},
   "outputs": [
    {
     "name": "stdout",
     "output_type": "stream",
     "text": [
      "R2 score = 0.88\n",
      "Mean absolute error = 2.99\n",
      "Root mean squared error = 4.21\n"
     ]
    }
   ],
   "source": [
    "score_model(lasso)"
   ]
  },
  {
   "cell_type": "markdown",
   "metadata": {},
   "source": [
    "#### Unpacking the Lasso Model"
   ]
  },
  {
   "cell_type": "code",
   "execution_count": 351,
   "metadata": {},
   "outputs": [
    {
     "name": "stdout",
     "output_type": "stream",
     "text": [
      "{'3PAr_Norm': -0.0,\n",
      " 'Age': 0.5141073490925355,\n",
      " 'DRB%': -0.0,\n",
      " 'DRtg': -0.0,\n",
      " 'FT/FGA': -0.0,\n",
      " 'FTr': -0.0,\n",
      " 'NRtg': 11.038544778854506,\n",
      " 'OFT/FGA': -0.08656099126704868,\n",
      " 'ORB%': 0.08792409127070973,\n",
      " 'ORtg': 0.8066132321297876,\n",
      " 'OTOV%': -0.0,\n",
      " 'OeFG%': -0.27329295130797554,\n",
      " 'Pace': 0.2527910529519817,\n",
      " 'TOV%': -0.0,\n",
      " 'TS%': 0.0,\n",
      " 'eFG%': 0.22076566470601244}\n",
      "Intercept:  40.09613375130616\n"
     ]
    }
   ],
   "source": [
    "unpack_model('lasso', lasso)"
   ]
  },
  {
   "cell_type": "markdown",
   "metadata": {},
   "source": [
    "This model has allowed us to zero in some of the more influential factors."
   ]
  },
  {
   "cell_type": "markdown",
   "metadata": {},
   "source": [
    "#### Saving the Lasso Model"
   ]
  },
  {
   "cell_type": "code",
   "execution_count": 352,
   "metadata": {},
   "outputs": [],
   "source": [
    "save_model(lasso, 'lasso')"
   ]
  }
 ],
 "metadata": {
  "interpreter": {
   "hash": "f297435e7483730f90c95e4704d8a04a13ec840de4923b2310ae22b6393e10ed"
  },
  "kernelspec": {
   "display_name": "Python 3.9.7 64-bit ('nba-data-analysis': conda)",
   "language": "python",
   "name": "python3"
  },
  "language_info": {
   "codemirror_mode": {
    "name": "ipython",
    "version": 3
   },
   "file_extension": ".py",
   "mimetype": "text/x-python",
   "name": "python",
   "nbconvert_exporter": "python",
   "pygments_lexer": "ipython3",
   "version": "3.9.7"
  },
  "orig_nbformat": 4
 },
 "nbformat": 4,
 "nbformat_minor": 2
}
