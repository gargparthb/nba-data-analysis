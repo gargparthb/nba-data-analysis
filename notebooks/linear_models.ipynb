{
 "cells": [
  {
   "cell_type": "code",
   "execution_count": 30,
   "metadata": {},
   "outputs": [],
   "source": [
    "import pandas as pd\n",
    "import numpy as np"
   ]
  },
  {
   "cell_type": "markdown",
   "metadata": {},
   "source": [
    "### Train-Test Spliting of the Data"
   ]
  },
  {
   "cell_type": "code",
   "execution_count": 31,
   "metadata": {},
   "outputs": [
    {
     "name": "stdout",
     "output_type": "stream",
     "text": [
      "(963, 15) (963,) (170, 15) (170,)\n"
     ]
    }
   ],
   "source": [
    "from sklearn.model_selection import train_test_split\n",
    "\n",
    "data = pd.read_csv('../data/teams_processed.csv')\n",
    "\n",
    "# separating the dataset into section ready for model fitting\n",
    "train, test = train_test_split(data, test_size=0.15, train_size=0.85)\n",
    "x_cols = ['Age', 'ORtg', 'DRtg', 'NRtg', 'Pace', 'FTr', 'TS%', 'eFG%', 'TOV%', 'ORB%', 'FT/FGA', 'OeFG%', 'OTOV%', 'DRB%', 'OFT/FGA']\n",
    "y_col = 'W'\n",
    "\n",
    "x_train = train[x_cols]\n",
    "y_train = train[y_col]\n",
    "x_test= test[x_cols]\n",
    "y_test = test[y_col]\n",
    "\n",
    "print(x_train.shape, y_train.shape, x_test.shape, y_test.shape)"
   ]
  },
  {
   "cell_type": "markdown",
   "metadata": {},
   "source": [
    "### Linear Regression\n",
    "We can now run the linear regression algorithm on the split data."
   ]
  },
  {
   "cell_type": "code",
   "execution_count": 32,
   "metadata": {},
   "outputs": [],
   "source": [
    "from sklearn import linear_model\n",
    "\n",
    "linear_regression  = linear_model.LinearRegression()\n",
    "\n",
    "# fitting the model\n",
    "linear_regression.fit(x_train, y_train)\n",
    "\n",
    "# testing the model\n",
    "y_pred = linear_regression.predict(x_test)"
   ]
  },
  {
   "cell_type": "markdown",
   "metadata": {},
   "source": [
    "#### Scoring the Linear Regression Model"
   ]
  },
  {
   "cell_type": "code",
   "execution_count": 33,
   "metadata": {},
   "outputs": [
    {
     "name": "stdout",
     "output_type": "stream",
     "text": [
      "Model accuracy on the test set:  0.86 \n",
      "\n",
      "R2 score = 0.86\n",
      "Mean absolute error = 3.37\n",
      "Root mean squared error = 4.78\n"
     ]
    }
   ],
   "source": [
    "from sklearn import metrics\n",
    "import math\n",
    "\n",
    "accuracy = linear_regression.score(x_test, y_test)\n",
    "print(\"Model accuracy on the test set: \", round(accuracy, 2), '\\n')\n",
    "\n",
    "# Baseline Model accuracy\n",
    "print(\"R2 score =\", round(metrics.r2_score(y_test, y_pred), 2))\n",
    "print(\"Mean absolute error =\", round(metrics.mean_absolute_error(y_test, y_pred), 2)) \n",
    "print(\"Root mean squared error =\", round(math.sqrt(metrics.mean_squared_error(y_test, y_pred)), 2)) "
   ]
  },
  {
   "cell_type": "markdown",
   "metadata": {},
   "source": [
    "#### Unpacking the Linear Regression Model"
   ]
  },
  {
   "cell_type": "code",
   "execution_count": 34,
   "metadata": {},
   "outputs": [
    {
     "name": "stdout",
     "output_type": "stream",
     "text": [
      "{'Age': 0.3862936276262755,\n",
      " 'DRB%': 0.2786865234375,\n",
      " 'DRtg': 7384080356722.959,\n",
      " 'FT/FGA': 153.80022525787354,\n",
      " 'FTr': -78.66358757019043,\n",
      " 'NRtg': 7384080356724.619,\n",
      " 'OFT/FGA': -28.03125,\n",
      " 'ORB%': 0.6651611328125,\n",
      " 'ORtg': -7384080356723.37,\n",
      " 'OTOV%': 0.765106201171875,\n",
      " 'OeFG%': -99.03291893005371,\n",
      " 'Pace': 0.024169921875,\n",
      " 'TOV%': -1.65142822265625,\n",
      " 'TS%': -93.76582622528076,\n",
      " 'eFG%': 272.6583080291748}\n",
      "Intercept:  4.567946562725453\n"
     ]
    }
   ],
   "source": [
    "import pprint\n",
    "\n",
    "pprint.pprint(dict(zip(x_cols, linear_regression.coef_)))\n",
    "print(\"Intercept: \", linear_regression.intercept_)"
   ]
  },
  {
   "cell_type": "markdown",
   "metadata": {},
   "source": [
    "While this model is quite accurate, some of the coeficients have really high values, which is a symptom of over fitting. The liner regression model is trying to match the results too acurately, that the algorithm is too data specific."
   ]
  },
  {
   "cell_type": "markdown",
   "metadata": {},
   "source": [
    "#### Saving the Linear Regression Model"
   ]
  },
  {
   "cell_type": "code",
   "execution_count": 35,
   "metadata": {},
   "outputs": [],
   "source": [
    "import pickle\n",
    "\n",
    "with open(\"../models/linear_regression.pickle\", \"wb\") as f:\n",
    "  pickle.dump(linear_regression, f)"
   ]
  },
  {
   "cell_type": "markdown",
   "metadata": {},
   "source": [
    "### Ridge Model\n",
    "Since the Linear model has some extremely high coeficient values, we can now use the Ridge model to remedy the overfitting.  "
   ]
  },
  {
   "cell_type": "code",
   "execution_count": 36,
   "metadata": {},
   "outputs": [],
   "source": [
    "ridge = linear_model.Ridge(alpha=.5)\n",
    "\n",
    "# fitting the model\n",
    "ridge.fit(x_train, y_train)\n",
    "\n",
    "# testing the model\n",
    "ridge_y_pred = ridge.predict(x_test)"
   ]
  },
  {
   "cell_type": "markdown",
   "metadata": {},
   "source": [
    "#### Scoring the Ridge Regression Model"
   ]
  },
  {
   "cell_type": "code",
   "execution_count": 37,
   "metadata": {},
   "outputs": [
    {
     "name": "stdout",
     "output_type": "stream",
     "text": [
      "Model accuracy on the test set:  0.86 \n",
      "\n",
      "R2 score = 0.86\n",
      "Mean absolute error = 3.41\n",
      "Root mean squared error = 4.83\n"
     ]
    }
   ],
   "source": [
    "ridge_accuracy = ridge.score(x_test, y_test)\n",
    "print(\"Model accuracy on the test set: \", round(ridge_accuracy, 2), '\\n')\n",
    "\n",
    "# Baseline Model accuracy\n",
    "print(\"R2 score =\", round(metrics.r2_score(y_test, ridge_y_pred), 2))\n",
    "print(\"Mean absolute error =\", round(metrics.mean_absolute_error(y_test, ridge_y_pred), 2)) \n",
    "print(\"Root mean squared error =\", round(math.sqrt(metrics.mean_squared_error(y_test, ridge_y_pred)), 2))"
   ]
  },
  {
   "cell_type": "markdown",
   "metadata": {},
   "source": [
    "#### Unpacking the Ridge Model"
   ]
  },
  {
   "cell_type": "code",
   "execution_count": 38,
   "metadata": {},
   "outputs": [
    {
     "name": "stdout",
     "output_type": "stream",
     "text": [
      "{'Age': 0.4047763682617255,\n",
      " 'DRB%': -0.029661078062402937,\n",
      " 'DRtg': -0.7376582469328505,\n",
      " 'FT/FGA': 2.271762497384097,\n",
      " 'FTr': -1.1425058892346036,\n",
      " 'NRtg': 1.6204920002090006,\n",
      " 'OFT/FGA': -4.063688662158415,\n",
      " 'ORB%': 0.06914645451446785,\n",
      " 'ORtg': 0.8828337532745272,\n",
      " 'OTOV%': -0.2521618064189411,\n",
      " 'OeFG%': -0.6349942959491796,\n",
      " 'Pace': 0.06748989989336078,\n",
      " 'TOV%': 0.09613913326483858,\n",
      " 'TS%': 1.5422001727840018,\n",
      " 'eFG%': 0.48192510005789563}\n",
      "Intercept:  9.798291085399491\n"
     ]
    }
   ],
   "source": [
    "pprint.pprint(dict(zip(x_cols, ridge.coef_)))\n",
    "print(\"Intercept: \", ridge.intercept_)"
   ]
  },
  {
   "cell_type": "markdown",
   "metadata": {},
   "source": [
    "These coefficients are all much more reasonable in magnitude as compared to the prior regression model"
   ]
  },
  {
   "cell_type": "markdown",
   "metadata": {},
   "source": [
    "#### Saving the Ridge Model"
   ]
  },
  {
   "cell_type": "code",
   "execution_count": 39,
   "metadata": {},
   "outputs": [],
   "source": [
    "with open(\"../models/ridge.pickle\", \"wb\") as f:\n",
    "  pickle.dump(ridge, f)"
   ]
  }
 ],
 "metadata": {
  "interpreter": {
   "hash": "f297435e7483730f90c95e4704d8a04a13ec840de4923b2310ae22b6393e10ed"
  },
  "kernelspec": {
   "display_name": "Python 3.9.7 64-bit ('nba-data-analysis': conda)",
   "language": "python",
   "name": "python3"
  },
  "language_info": {
   "codemirror_mode": {
    "name": "ipython",
    "version": 3
   },
   "file_extension": ".py",
   "mimetype": "text/x-python",
   "name": "python",
   "nbconvert_exporter": "python",
   "pygments_lexer": "ipython3",
   "version": "3.9.7"
  },
  "orig_nbformat": 4
 },
 "nbformat": 4,
 "nbformat_minor": 2
}
