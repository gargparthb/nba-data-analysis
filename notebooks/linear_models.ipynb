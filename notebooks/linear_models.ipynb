{
 "cells": [
  {
   "cell_type": "code",
   "execution_count": 405,
   "metadata": {},
   "outputs": [],
   "source": [
    "import pandas as pd\n",
    "import numpy as np\n",
    "from sklearn.model_selection import train_test_split\n",
    "from sklearn import linear_model\n",
    "from sklearn.preprocessing import StandardScaler\n",
    "from sklearn.pipeline import Pipeline\n",
    "from sklearn import metrics\n",
    "import math\n",
    "import pprint\n",
    "import pickle"
   ]
  },
  {
   "cell_type": "markdown",
   "metadata": {},
   "source": [
    "### Train-Test Spliting of the Data"
   ]
  },
  {
   "cell_type": "code",
   "execution_count": 406,
   "metadata": {},
   "outputs": [
    {
     "name": "stdout",
     "output_type": "stream",
     "text": [
      "(957, 16) (957,) (169, 16) (169,)\n"
     ]
    }
   ],
   "source": [
    "data = pd.read_csv('../data/teams_normalized.csv')\n",
    "\n",
    "# separating the dataset into section ready for model fitting\n",
    "train, test = train_test_split(data, test_size=0.15, train_size=0.85)\n",
    "x_cols = ['Age', 'ORtg', 'DRtg', 'NRtg', 'Pace', '3PAr_Norm', 'FTr', 'TS%', 'eFG%', 'TOV%', 'ORB%', 'FT/FGA', 'OeFG%', 'OTOV%', 'DRB%', 'OFT/FGA']\n",
    "y_col = 'W'\n",
    "\n",
    "x_train = train[x_cols]\n",
    "y_train = train[y_col]\n",
    "x_test= test[x_cols]\n",
    "y_test = test[y_col]\n",
    "\n",
    "print(x_train.shape, y_train.shape, x_test.shape, y_test.shape)"
   ]
  },
  {
   "cell_type": "markdown",
   "metadata": {},
   "source": [
    "Here we define some utilities for each of the models we will use."
   ]
  },
  {
   "cell_type": "code",
   "execution_count": 407,
   "metadata": {},
   "outputs": [],
   "source": [
    "def create_model(model_name, model):\n",
    "  pipeline = Pipeline(\n",
    "     steps=[('scaler', StandardScaler()), (model_name, model)]\n",
    "  )\n",
    "  pipeline.fit(x_train, y_train)\n",
    "  print(\"model trained and created\")\n",
    "  return pipeline\n",
    "\n",
    "def score_model(model):\n",
    "  y_pred = model.predict(x_test)\n",
    "  print(\"R2 score =\", round(metrics.r2_score(y_test, y_pred), 2))\n",
    "  print(\"Mean absolute error =\", round(metrics.mean_absolute_error(y_test, y_pred), 2)) \n",
    "  print(\"Root mean squared error =\", round(math.sqrt(metrics.mean_squared_error(y_test, y_pred)), 2))\n",
    "\n",
    "def unpack_model(model_name, model):\n",
    "  estimator = model.named_steps[model_name]\n",
    "  pprint.pprint(dict(zip(x_cols, estimator.coef_)))\n",
    "  print(\"Intercept: \", estimator.intercept_) \n",
    "\n",
    "def save_model(model, filename):\n",
    "  with open(\"../models/linear_models/\" + filename + \".pickle\", \"wb\") as f:\n",
    "    pickle.dump(model, f)\n",
    "  print('Model saved as ' + filename + '.pickle')"
   ]
  },
  {
   "cell_type": "markdown",
   "metadata": {},
   "source": [
    "### Linear Regression\n",
    "We can now run the linear regression algorithm on the split data."
   ]
  },
  {
   "cell_type": "code",
   "execution_count": 408,
   "metadata": {},
   "outputs": [
    {
     "name": "stdout",
     "output_type": "stream",
     "text": [
      "model trained and created\n"
     ]
    }
   ],
   "source": [
    "linear_regression = create_model('lr', linear_model.LinearRegression())"
   ]
  },
  {
   "cell_type": "markdown",
   "metadata": {},
   "source": [
    "#### Scoring the Linear Regression Model"
   ]
  },
  {
   "cell_type": "code",
   "execution_count": 409,
   "metadata": {},
   "outputs": [
    {
     "name": "stdout",
     "output_type": "stream",
     "text": [
      "R2 score = 0.93\n",
      "Mean absolute error = 2.68\n",
      "Root mean squared error = 3.52\n"
     ]
    }
   ],
   "source": [
    "score_model(linear_regression)"
   ]
  },
  {
   "cell_type": "markdown",
   "metadata": {},
   "source": [
    "#### Unpacking the Linear Regression Model"
   ]
  },
  {
   "cell_type": "code",
   "execution_count": 410,
   "metadata": {},
   "outputs": [
    {
     "name": "stdout",
     "output_type": "stream",
     "text": [
      "{'3PAr_Norm': 0.07421875,\n",
      " 'Age': 0.5968437982889084,\n",
      " 'DRB%': 0.984375,\n",
      " 'DRtg': 89339808755542.12,\n",
      " 'FT/FGA': 6.8671875,\n",
      " 'FTr': -4.384765625,\n",
      " 'NRtg': 120005441389091.69,\n",
      " 'OFT/FGA': -0.748046875,\n",
      " 'ORB%': 3.16162109375,\n",
      " 'ORtg': -96094061838271.34,\n",
      " 'OTOV%': 0.890869140625,\n",
      " 'OeFG%': -1.953125,\n",
      " 'Pace': 0.15625,\n",
      " 'TOV%': -2.68359375,\n",
      " 'TS%': -5.21484375,\n",
      " 'eFG%': 10.24609375}\n",
      "Intercept:  40.466749931923616\n"
     ]
    }
   ],
   "source": [
    "unpack_model('lr', linear_regression)"
   ]
  },
  {
   "cell_type": "markdown",
   "metadata": {},
   "source": [
    "While this model is quite accurate, some of the coeficients have really high values, which is a symptom of over fitting. The liner regression model is trying to match the results too acurately, that the algorithm is too data specific."
   ]
  },
  {
   "cell_type": "markdown",
   "metadata": {},
   "source": [
    "#### Saving the Linear Regression Model"
   ]
  },
  {
   "cell_type": "code",
   "execution_count": 411,
   "metadata": {},
   "outputs": [
    {
     "name": "stdout",
     "output_type": "stream",
     "text": [
      "Model saved as linear_regression.pickle\n"
     ]
    }
   ],
   "source": [
    "save_model(linear_regression, 'linear_regression')"
   ]
  },
  {
   "cell_type": "markdown",
   "metadata": {},
   "source": [
    "### Ridge Model\n",
    "Since the Linear model has some extremely high coeficient values, we can now use the Ridge model to remedy the overfitting.  "
   ]
  },
  {
   "cell_type": "code",
   "execution_count": 412,
   "metadata": {},
   "outputs": [
    {
     "name": "stdout",
     "output_type": "stream",
     "text": [
      "model trained and created\n"
     ]
    }
   ],
   "source": [
    "ridge = create_model('ridge', linear_model.Ridge(alpha=0.5))"
   ]
  },
  {
   "cell_type": "markdown",
   "metadata": {},
   "source": [
    "#### Scoring the Ridge Regression Model"
   ]
  },
  {
   "cell_type": "code",
   "execution_count": 413,
   "metadata": {},
   "outputs": [
    {
     "name": "stdout",
     "output_type": "stream",
     "text": [
      "R2 score = 0.93\n",
      "Mean absolute error = 2.67\n",
      "Root mean squared error = 3.51\n"
     ]
    }
   ],
   "source": [
    "score_model(ridge)"
   ]
  },
  {
   "cell_type": "markdown",
   "metadata": {},
   "source": [
    "#### Unpacking the Ridge Model"
   ]
  },
  {
   "cell_type": "code",
   "execution_count": 414,
   "metadata": {},
   "outputs": [
    {
     "name": "stdout",
     "output_type": "stream",
     "text": [
      "{'3PAr_Norm': 0.05944219333025225,\n",
      " 'Age': 0.484956218560963,\n",
      " 'DRB%': 0.9335340895921684,\n",
      " 'DRtg': -3.3629643627058536,\n",
      " 'FT/FGA': 3.2131745352518255,\n",
      " 'FTr': -2.0850609997322187,\n",
      " 'NRtg': 3.4724239757055253,\n",
      " 'OFT/FGA': -0.7591366272696555,\n",
      " 'ORB%': 3.032491889493319,\n",
      " 'ORtg': 1.209889317371871,\n",
      " 'OTOV%': 0.9013527003689412,\n",
      " 'OeFG%': -1.9796341567806608,\n",
      " 'Pace': 0.15174675250012667,\n",
      " 'TOV%': -2.5627729971907143,\n",
      " 'TS%': 0.40472475209972725,\n",
      " 'eFG%': 4.726839637265068}\n",
      "Intercept:  40.24764890282132\n"
     ]
    }
   ],
   "source": [
    "unpack_model('ridge', ridge)"
   ]
  },
  {
   "cell_type": "markdown",
   "metadata": {},
   "source": [
    "These coefficients are all much more reasonable in magnitude as compared to the prior regression model"
   ]
  },
  {
   "cell_type": "markdown",
   "metadata": {},
   "source": [
    "#### Saving the Ridge Model"
   ]
  },
  {
   "cell_type": "code",
   "execution_count": 415,
   "metadata": {},
   "outputs": [
    {
     "name": "stdout",
     "output_type": "stream",
     "text": [
      "Model saved as ridge.pickle\n"
     ]
    }
   ],
   "source": [
    "save_model(ridge, 'ridge')"
   ]
  },
  {
   "cell_type": "markdown",
   "metadata": {},
   "source": [
    "### The Lasso Model\n",
    "Since this data has many columns, we might want the ability to wittle down the effective columns and for this we employ the lasso model."
   ]
  },
  {
   "cell_type": "code",
   "execution_count": 416,
   "metadata": {},
   "outputs": [
    {
     "name": "stdout",
     "output_type": "stream",
     "text": [
      "model trained and created\n"
     ]
    }
   ],
   "source": [
    "lasso = create_model('lasso', linear_model.Lasso(alpha=0.1))"
   ]
  },
  {
   "cell_type": "markdown",
   "metadata": {},
   "source": [
    "#### Scoring the Lasso Model"
   ]
  },
  {
   "cell_type": "code",
   "execution_count": 417,
   "metadata": {},
   "outputs": [
    {
     "name": "stdout",
     "output_type": "stream",
     "text": [
      "R2 score = 0.93\n",
      "Mean absolute error = 2.61\n",
      "Root mean squared error = 3.53\n"
     ]
    }
   ],
   "source": [
    "score_model(lasso)"
   ]
  },
  {
   "cell_type": "markdown",
   "metadata": {},
   "source": [
    "#### Unpacking the Lasso Model"
   ]
  },
  {
   "cell_type": "code",
   "execution_count": 418,
   "metadata": {},
   "outputs": [
    {
     "name": "stdout",
     "output_type": "stream",
     "text": [
      "{'3PAr_Norm': -0.0,\n",
      " 'Age': 0.44667934680468585,\n",
      " 'DRB%': -0.0,\n",
      " 'DRtg': -0.0,\n",
      " 'FT/FGA': 0.0,\n",
      " 'FTr': 0.0,\n",
      " 'NRtg': 10.6594989216597,\n",
      " 'OFT/FGA': -0.15890880564241391,\n",
      " 'ORB%': 0.05426359454606889,\n",
      " 'ORtg': 1.0206473301780712,\n",
      " 'OTOV%': -0.0,\n",
      " 'OeFG%': -0.32284845847823557,\n",
      " 'Pace': 0.26199059685570825,\n",
      " 'TOV%': -0.0,\n",
      " 'TS%': 0.23762105536031677,\n",
      " 'eFG%': 0.0}\n",
      "Intercept:  40.24764890282132\n"
     ]
    }
   ],
   "source": [
    "unpack_model('lasso', lasso)"
   ]
  },
  {
   "cell_type": "markdown",
   "metadata": {},
   "source": [
    "This model has allowed us to zero in some of the more influential factors."
   ]
  },
  {
   "cell_type": "markdown",
   "metadata": {},
   "source": [
    "#### Saving the Lasso Model"
   ]
  },
  {
   "cell_type": "code",
   "execution_count": 419,
   "metadata": {},
   "outputs": [
    {
     "name": "stdout",
     "output_type": "stream",
     "text": [
      "Model saved as lasso.pickle\n"
     ]
    }
   ],
   "source": [
    "save_model(lasso, 'lasso')"
   ]
  },
  {
   "cell_type": "markdown",
   "metadata": {},
   "source": [
    "### Combining Concepts: the Elastic Model\n",
    "These models all have their own strengths and weaknesses, so there is also the elastic model that combines the idea of restricting coefficient values, as well as setting as many to zero as possible."
   ]
  },
  {
   "cell_type": "code",
   "execution_count": 420,
   "metadata": {},
   "outputs": [
    {
     "name": "stdout",
     "output_type": "stream",
     "text": [
      "model trained and created\n"
     ]
    }
   ],
   "source": [
    "elastic = create_model('elastic', linear_model.ElasticNet(alpha=0.1, l1_ratio=0.7))"
   ]
  },
  {
   "cell_type": "markdown",
   "metadata": {},
   "source": [
    "#### Scoring the Elastic Model"
   ]
  },
  {
   "cell_type": "code",
   "execution_count": 421,
   "metadata": {},
   "outputs": [
    {
     "name": "stdout",
     "output_type": "stream",
     "text": [
      "R2 score = 0.93\n",
      "Mean absolute error = 2.63\n",
      "Root mean squared error = 3.55\n"
     ]
    }
   ],
   "source": [
    "score_model(elastic)"
   ]
  },
  {
   "cell_type": "markdown",
   "metadata": {},
   "source": [
    "#### Unpacking the Elastic Model"
   ]
  },
  {
   "cell_type": "code",
   "execution_count": 422,
   "metadata": {},
   "outputs": [
    {
     "name": "stdout",
     "output_type": "stream",
     "text": [
      "{'3PAr_Norm': -0.0,\n",
      " 'Age': 0.49965566619360674,\n",
      " 'DRB%': 0.0,\n",
      " 'DRtg': -2.8369465462138983,\n",
      " 'FT/FGA': 0.06406669515218708,\n",
      " 'FTr': 0.0,\n",
      " 'NRtg': 5.794850538650934,\n",
      " 'OFT/FGA': -0.3187218611047042,\n",
      " 'ORB%': 0.8565518561237656,\n",
      " 'ORtg': 2.9933477618755346,\n",
      " 'OTOV%': 0.09140414540741745,\n",
      " 'OeFG%': -0.9237900886115363,\n",
      " 'Pace': 0.1712946975770053,\n",
      " 'TOV%': -0.7673890921652069,\n",
      " 'TS%': 1.3898754660418309,\n",
      " 'eFG%': 0.6089696302397808}\n",
      "Intercept:  40.24764890282132\n"
     ]
    }
   ],
   "source": [
    "unpack_model('elastic', elastic)"
   ]
  },
  {
   "cell_type": "markdown",
   "metadata": {},
   "source": [
    "We have now reached a middle ground between the sparsity of factors and the interpretable coefficients with this model."
   ]
  },
  {
   "cell_type": "markdown",
   "metadata": {},
   "source": [
    "#### Saving the Elastic Model"
   ]
  },
  {
   "cell_type": "code",
   "execution_count": 423,
   "metadata": {},
   "outputs": [
    {
     "name": "stdout",
     "output_type": "stream",
     "text": [
      "Model saved as elastic.pickle\n"
     ]
    }
   ],
   "source": [
    "save_model(elastic, 'elastic')"
   ]
  }
 ],
 "metadata": {
  "interpreter": {
   "hash": "f297435e7483730f90c95e4704d8a04a13ec840de4923b2310ae22b6393e10ed"
  },
  "kernelspec": {
   "display_name": "Python 3.9.7 64-bit ('nba-data-analysis': conda)",
   "language": "python",
   "name": "python3"
  },
  "language_info": {
   "codemirror_mode": {
    "name": "ipython",
    "version": 3
   },
   "file_extension": ".py",
   "mimetype": "text/x-python",
   "name": "python",
   "nbconvert_exporter": "python",
   "pygments_lexer": "ipython3",
   "version": "3.9.7"
  },
  "orig_nbformat": 4
 },
 "nbformat": 4,
 "nbformat_minor": 2
}
