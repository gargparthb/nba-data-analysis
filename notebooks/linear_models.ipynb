{
 "cells": [
  {
   "cell_type": "code",
   "execution_count": 130,
   "metadata": {},
   "outputs": [],
   "source": [
    "import pandas as pd\n",
    "import numpy as np"
   ]
  },
  {
   "cell_type": "markdown",
   "metadata": {},
   "source": [
    "### Train-Test Spliting of the Data"
   ]
  },
  {
   "cell_type": "code",
   "execution_count": 131,
   "metadata": {},
   "outputs": [
    {
     "name": "stdout",
     "output_type": "stream",
     "text": [
      "(963, 15) (963,) (170, 15) (170,)\n"
     ]
    }
   ],
   "source": [
    "from sklearn.model_selection import train_test_split\n",
    "\n",
    "data = pd.read_csv('../data/teams_processed.csv')\n",
    "\n",
    "# separating the dataset into section ready for model fitting\n",
    "train, test = train_test_split(data, test_size=0.15, train_size=0.85)\n",
    "x_cols = ['Age', 'ORtg', 'DRtg', 'NRtg', 'Pace', 'FTr', 'TS%', 'eFG%', 'TOV%', 'ORB%', 'FT/FGA', 'OeFG%', 'OTOV%', 'DRB%', 'OFT/FGA']\n",
    "y_col = 'W'\n",
    "\n",
    "x_train = train[x_cols]\n",
    "y_train = train[y_col]\n",
    "x_test= test[x_cols]\n",
    "y_test = test[y_col]\n",
    "\n",
    "print(x_train.shape, y_train.shape, x_test.shape, y_test.shape)"
   ]
  },
  {
   "cell_type": "markdown",
   "metadata": {},
   "source": [
    "### Linear Regression\n",
    "We can now run the linear regression algorithm on the split data."
   ]
  },
  {
   "cell_type": "code",
   "execution_count": 132,
   "metadata": {},
   "outputs": [],
   "source": [
    "from sklearn import linear_model\n",
    "from sklearn.preprocessing import StandardScaler\n",
    "from sklearn.pipeline import Pipeline\n",
    "\n",
    "linear_regression = Pipeline(\n",
    "  steps=[('scaler', StandardScaler()), ('lr', linear_model.LinearRegression())])\n",
    "\n",
    "# fitting the model\n",
    "linear_regression.fit(x_train, y_train)\n",
    "\n",
    "# testing the model\n",
    "y_pred = linear_regression.predict(x_test)"
   ]
  },
  {
   "cell_type": "markdown",
   "metadata": {},
   "source": [
    "#### Scoring the Linear Regression Model"
   ]
  },
  {
   "cell_type": "code",
   "execution_count": 133,
   "metadata": {},
   "outputs": [
    {
     "name": "stdout",
     "output_type": "stream",
     "text": [
      "Model accuracy on the test set:  0.87 \n",
      "\n",
      "R2 score = 0.87\n",
      "Mean absolute error = 2.86\n",
      "Root mean squared error = 4.27\n"
     ]
    }
   ],
   "source": [
    "from sklearn import metrics\n",
    "import math\n",
    "\n",
    "accuracy = linear_regression.score(x_test, y_test)\n",
    "print(\"Model accuracy on the test set: \", round(accuracy, 2), '\\n')\n",
    "\n",
    "# Baseline Model accuracy\n",
    "print(\"R2 score =\", round(metrics.r2_score(y_test, y_pred), 2))\n",
    "print(\"Mean absolute error =\", round(metrics.mean_absolute_error(y_test, y_pred), 2)) \n",
    "print(\"Root mean squared error =\", round(math.sqrt(metrics.mean_squared_error(y_test, y_pred)), 2)) "
   ]
  },
  {
   "cell_type": "markdown",
   "metadata": {},
   "source": [
    "#### Unpacking the Linear Regression Model"
   ]
  },
  {
   "cell_type": "code",
   "execution_count": 134,
   "metadata": {},
   "outputs": [
    {
     "name": "stdout",
     "output_type": "stream",
     "text": [
      "{'Age': 0.6144148484025759,\n",
      " 'DRB%': 0.74267578125,\n",
      " 'DRtg': 66556799074913.55,\n",
      " 'FT/FGA': 3.228515625,\n",
      " 'FTr': -2.158203125,\n",
      " 'NRtg': 90759816350959.34,\n",
      " 'OFT/FGA': -0.71484375,\n",
      " 'ORB%': 2.3157958984375,\n",
      " 'ORtg': -71321002730867.44,\n",
      " 'OTOV%': 0.747528076171875,\n",
      " 'OeFG%': -1.45703125,\n",
      " 'Pace': 0.19140625,\n",
      " 'TOV%': -1.79296875,\n",
      " 'TS%': -0.775390625,\n",
      " 'eFG%': 4.390625}\n",
      "Intercept:  40.39264890469613\n"
     ]
    }
   ],
   "source": [
    "import pprint\n",
    "\n",
    "lr = linear_regression.named_steps['lr']\n",
    "\n",
    "pprint.pprint(dict(zip(x_cols, lr.coef_)))\n",
    "print(\"Intercept: \", lr.intercept_)"
   ]
  },
  {
   "cell_type": "markdown",
   "metadata": {},
   "source": [
    "While this model is quite accurate, some of the coeficients have really high values, which is a symptom of over fitting. The liner regression model is trying to match the results too acurately, that the algorithm is too data specific."
   ]
  },
  {
   "cell_type": "markdown",
   "metadata": {},
   "source": [
    "#### Saving the Linear Regression Model"
   ]
  },
  {
   "cell_type": "code",
   "execution_count": 135,
   "metadata": {},
   "outputs": [],
   "source": [
    "import pickle\n",
    "\n",
    "with open(\"../models/linear_regression.pickle\", \"wb\") as f:\n",
    "  pickle.dump(linear_regression, f)"
   ]
  },
  {
   "cell_type": "markdown",
   "metadata": {},
   "source": [
    "### Ridge Model\n",
    "Since the Linear model has some extremely high coeficient values, we can now use the Ridge model to remedy the overfitting.  "
   ]
  },
  {
   "cell_type": "code",
   "execution_count": 136,
   "metadata": {},
   "outputs": [],
   "source": [
    "ridge = Pipeline(steps=[('scaler', StandardScaler()), ('ridge', linear_model.Ridge(alpha=.5))])\n",
    "# fitting the model\n",
    "ridge.fit(x_train, y_train)\n",
    "\n",
    "# testing the model\n",
    "ridge_y_pred = ridge.predict(x_test)"
   ]
  },
  {
   "cell_type": "markdown",
   "metadata": {},
   "source": [
    "#### Scoring the Ridge Regression Model"
   ]
  },
  {
   "cell_type": "code",
   "execution_count": 137,
   "metadata": {},
   "outputs": [
    {
     "name": "stdout",
     "output_type": "stream",
     "text": [
      "Model accuracy on the test set:  0.87 \n",
      "\n",
      "R2 score = 0.87\n",
      "Mean absolute error = 2.88\n",
      "Root mean squared error = 4.29\n"
     ]
    }
   ],
   "source": [
    "ridge_accuracy = ridge.score(x_test, y_test)\n",
    "print(\"Model accuracy on the test set: \", round(ridge_accuracy, 2), '\\n')\n",
    "\n",
    "# Baseline Model accuracy\n",
    "print(\"R2 score =\", round(metrics.r2_score(y_test, ridge_y_pred), 2))\n",
    "print(\"Mean absolute error =\", round(metrics.mean_absolute_error(y_test, ridge_y_pred), 2)) \n",
    "print(\"Root mean squared error =\", round(math.sqrt(metrics.mean_squared_error(y_test, ridge_y_pred)), 2))"
   ]
  },
  {
   "cell_type": "markdown",
   "metadata": {},
   "source": [
    "#### Unpacking the Ridge Model"
   ]
  },
  {
   "cell_type": "code",
   "execution_count": 139,
   "metadata": {},
   "outputs": [
    {
     "name": "stdout",
     "output_type": "stream",
     "text": [
      "{'Age': 0.5658592203087043,\n",
      " 'DRB%': 0.7548371475117832,\n",
      " 'DRtg': -3.511690008693406,\n",
      " 'FT/FGA': 1.859362855432612,\n",
      " 'FTr': -1.271674723012904,\n",
      " 'NRtg': 4.270987178263317,\n",
      " 'OFT/FGA': -0.7011798214232909,\n",
      " 'ORB%': 2.2729508264788167,\n",
      " 'ORtg': 2.157950108948622,\n",
      " 'OTOV%': 0.7384263541954414,\n",
      " 'OeFG%': -1.4762422311351964,\n",
      " 'Pace': 0.1877653427839274,\n",
      " 'TOV%': -1.726582153715316,\n",
      " 'TS%': 1.2972456929621283,\n",
      " 'eFG%': 2.417264362806264}\n",
      "Intercept:  40.42159916926271\n"
     ]
    }
   ],
   "source": [
    "ridge_model = ridge.named_steps['ridge']\n",
    "\n",
    "pprint.pprint(dict(zip(x_cols, ridge_model.coef_)))\n",
    "print(\"Intercept: \", ridge_model.intercept_)"
   ]
  },
  {
   "cell_type": "markdown",
   "metadata": {},
   "source": [
    "These coefficients are all much more reasonable in magnitude as compared to the prior regression model"
   ]
  },
  {
   "cell_type": "markdown",
   "metadata": {},
   "source": [
    "#### Saving the Ridge Model"
   ]
  },
  {
   "cell_type": "code",
   "execution_count": null,
   "metadata": {},
   "outputs": [],
   "source": [
    "with open(\"../models/ridge.pickle\", \"wb\") as f:\n",
    "  pickle.dump(ridge, f)"
   ]
  }
 ],
 "metadata": {
  "interpreter": {
   "hash": "f297435e7483730f90c95e4704d8a04a13ec840de4923b2310ae22b6393e10ed"
  },
  "kernelspec": {
   "display_name": "Python 3.9.7 64-bit ('nba-data-analysis': conda)",
   "language": "python",
   "name": "python3"
  },
  "language_info": {
   "codemirror_mode": {
    "name": "ipython",
    "version": 3
   },
   "file_extension": ".py",
   "mimetype": "text/x-python",
   "name": "python",
   "nbconvert_exporter": "python",
   "pygments_lexer": "ipython3",
   "version": "3.9.7"
  },
  "orig_nbformat": 4
 },
 "nbformat": 4,
 "nbformat_minor": 2
}
