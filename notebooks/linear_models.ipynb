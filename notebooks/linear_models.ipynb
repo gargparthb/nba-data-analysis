{
 "cells": [
  {
   "cell_type": "code",
   "execution_count": 1,
   "metadata": {},
   "outputs": [],
   "source": [
    "import pandas as pd\n",
    "import numpy as np\n",
    "from sklearn.model_selection import train_test_split\n",
    "from sklearn import linear_model\n",
    "from sklearn.preprocessing import StandardScaler\n",
    "from sklearn.pipeline import Pipeline\n",
    "from sklearn import metrics\n",
    "import math\n",
    "import pprint\n",
    "import pickle\n",
    "import matplotlib.pyplot as plt\n",
    "%matplotlib inline\n",
    "import seaborn as sns\n",
    "sns.set_style('whitegrid')\n",
    "sns.set(rc={'figure.figsize':(12,8)})"
   ]
  },
  {
   "cell_type": "markdown",
   "metadata": {},
   "source": [
    "### Train-Test Spliting of the Data"
   ]
  },
  {
   "cell_type": "code",
   "execution_count": 2,
   "metadata": {},
   "outputs": [
    {
     "name": "stdout",
     "output_type": "stream",
     "text": [
      "(957, 15) (957,) (169, 15) (169,)\n"
     ]
    }
   ],
   "source": [
    "data = pd.read_csv('../data/teams_normalized.csv')\n",
    "\n",
    "# separating the dataset into section ready for model fitting\n",
    "train, test = train_test_split(data, test_size=0.15, train_size=0.85)\n",
    "x_cols = ['Age', 'ORtg', 'DRtg', 'Pace', '3PAr_Norm', 'FTr', 'TS%', 'eFG%', 'TOV%', 'ORB%', 'FT/FGA', 'OeFG%', 'OTOV%', 'DRB%', 'OFT/FGA']\n",
    "y_col = 'W'\n",
    "\n",
    "x_train = train[x_cols]\n",
    "y_train = train[y_col]\n",
    "x_test= test[x_cols]\n",
    "y_test = test[y_col]\n",
    "\n",
    "print(x_train.shape, y_train.shape, x_test.shape, y_test.shape)"
   ]
  },
  {
   "cell_type": "markdown",
   "metadata": {},
   "source": [
    "Here we define some utilities for each of the models we will use."
   ]
  },
  {
   "cell_type": "code",
   "execution_count": 3,
   "metadata": {},
   "outputs": [],
   "source": [
    "def create_model(model_name, model):\n",
    "  pipeline = Pipeline(\n",
    "     steps=[('scaler', StandardScaler()), (model_name, model)]\n",
    "  )\n",
    "  pipeline.fit(x_train, y_train)\n",
    "  print(\"model trained and created\")\n",
    "  return pipeline\n",
    "\n",
    "def score_model(model):\n",
    "  y_pred = model.predict(x_test)\n",
    "  print(\"R2 score =\", round(metrics.r2_score(y_test, y_pred), 2))\n",
    "  print(\"Mean absolute error =\", round(metrics.mean_absolute_error(y_test, y_pred), 2)) \n",
    "  print(\"Root mean squared error =\", round(math.sqrt(metrics.mean_squared_error(y_test, y_pred)), 2))\n",
    "\n",
    "def unpack_model(model_name, model):\n",
    "  estimator = model.named_steps[model_name]\n",
    "  d = dict(zip(x_cols, estimator.coef_))\n",
    "  pprint.pprint(d)\n",
    "  print(\"Intercept: \", estimator.intercept_)\n",
    "  sns.barplot(x=list(d.keys()), y=list(d.values()))\n",
    "\n",
    "def save_model(model, filename):\n",
    "  with open(\"../models/linear_models/\" + filename + \".pickle\", \"wb\") as f:\n",
    "    pickle.dump(model, f)\n",
    "  print('Model saved as ' + filename + '.pickle')"
   ]
  },
  {
   "cell_type": "markdown",
   "metadata": {},
   "source": [
    "### Linear Regression\n",
    "We can now run the linear regression algorithm on the split data."
   ]
  },
  {
   "cell_type": "code",
   "execution_count": 4,
   "metadata": {},
   "outputs": [
    {
     "name": "stdout",
     "output_type": "stream",
     "text": [
      "model trained and created\n"
     ]
    }
   ],
   "source": [
    "linear_regression = create_model('lr', linear_model.LinearRegression())"
   ]
  },
  {
   "cell_type": "markdown",
   "metadata": {},
   "source": [
    "#### Scoring the Linear Regression Model"
   ]
  },
  {
   "cell_type": "code",
   "execution_count": 5,
   "metadata": {},
   "outputs": [
    {
     "name": "stdout",
     "output_type": "stream",
     "text": [
      "R2 score = 0.89\n",
      "Mean absolute error = 3.19\n",
      "Root mean squared error = 4.45\n"
     ]
    }
   ],
   "source": [
    "score_model(linear_regression)"
   ]
  },
  {
   "cell_type": "markdown",
   "metadata": {},
   "source": [
    "#### Unpacking the Linear Regression Model"
   ]
  },
  {
   "cell_type": "code",
   "execution_count": 6,
   "metadata": {},
   "outputs": [
    {
     "name": "stdout",
     "output_type": "stream",
     "text": [
      "{'3PAr_Norm': -0.031074001195702916,\n",
      " 'Age': 0.6290490275693661,\n",
      " 'DRB%': 1.4281811783311738,\n",
      " 'DRtg': -4.807364317482314,\n",
      " 'FT/FGA': 6.404758624845781,\n",
      " 'FTr': -4.039082641221673,\n",
      " 'OFT/FGA': -0.9771883239171659,\n",
      " 'ORB%': 2.673003097779362,\n",
      " 'ORtg': 4.413218737315938,\n",
      " 'OTOV%': 1.6147212430986713,\n",
      " 'OeFG%': -2.8986156411370745,\n",
      " 'Pace': 0.12681341348762265,\n",
      " 'TOV%': -2.236371875085985,\n",
      " 'TS%': -5.1335482492355045,\n",
      " 'eFG%': 9.36506324696356}\n",
      "Intercept:  40.291536050156736\n"
     ]
    },
    {
     "data": {
      "image/png": "[encoded data removed]",
      "text/plain": [
       "<Figure size 864x576 with 1 Axes>"
      ]
     },
     "metadata": {},
     "output_type": "display_data"
    }
   ],
   "source": [
    "unpack_model('lr', linear_regression)"
   ]
  },
  {
   "cell_type": "markdown",
   "metadata": {},
   "source": [
    "While this model is quite accurate, some of the coeficients have really high values, which is a symptom of over fitting. The liner regression model is trying to match the results too acurately, that the algorithm is too data specific."
   ]
  },
  {
   "cell_type": "markdown",
   "metadata": {},
   "source": [
    "#### Saving the Linear Regression Model"
   ]
  },
  {
   "cell_type": "code",
   "execution_count": 7,
   "metadata": {},
   "outputs": [
    {
     "name": "stdout",
     "output_type": "stream",
     "text": [
      "Model saved as linear_regression.pickle\n"
     ]
    }
   ],
   "source": [
    "save_model(linear_regression, 'linear_regression')"
   ]
  },
  {
   "cell_type": "markdown",
   "metadata": {},
   "source": [
    "### Ridge Model\n",
    "Since the Linear model has some extremely high coeficient values, we can now use the Ridge model to remedy the overfitting.  "
   ]
  },
  {
   "cell_type": "code",
   "execution_count": 8,
   "metadata": {},
   "outputs": [
    {
     "name": "stdout",
     "output_type": "stream",
     "text": [
      "model trained and created\n"
     ]
    }
   ],
   "source": [
    "ridge = create_model('ridge', linear_model.Ridge(alpha=0.5))"
   ]
  },
  {
   "cell_type": "markdown",
   "metadata": {},
   "source": [
    "#### Scoring the Ridge Regression Model"
   ]
  },
  {
   "cell_type": "code",
   "execution_count": 9,
   "metadata": {},
   "outputs": [
    {
     "name": "stdout",
     "output_type": "stream",
     "text": [
      "R2 score = 0.89\n",
      "Mean absolute error = 3.19\n",
      "Root mean squared error = 4.45\n"
     ]
    }
   ],
   "source": [
    "score_model(ridge)"
   ]
  },
  {
   "cell_type": "markdown",
   "metadata": {},
   "source": [
    "#### Unpacking the Ridge Model"
   ]
  },
  {
   "cell_type": "code",
   "execution_count": 10,
   "metadata": {},
   "outputs": [
    {
     "name": "stdout",
     "output_type": "stream",
     "text": [
      "{'3PAr_Norm': -0.02078182319580188,\n",
      " 'Age': 0.628323594170512,\n",
      " 'DRB%': 1.4152391249248375,\n",
      " 'DRtg': -4.81288298143101,\n",
      " 'FT/FGA': 2.9744798569367052,\n",
      " 'FTr': -1.908323347488849,\n",
      " 'OFT/FGA': -0.9703170379912426,\n",
      " 'ORB%': 2.7157367531256584,\n",
      " 'ORtg': 4.3365894387431325,\n",
      " 'OTOV%': 1.5972876802651512,\n",
      " 'OeFG%': -2.8893778724569708,\n",
      " 'Pace': 0.12088958066298311,\n",
      " 'TOV%': -2.2695127025717436,\n",
      " 'TS%': 0.2862319505354641,\n",
      " 'eFG%': 4.3312514757611575}\n",
      "Intercept:  40.291536050156736\n"
     ]
    },
    {
     "data": {
      "image/png": "[encoded data removed]",
      "text/plain": [
       "<Figure size 864x576 with 1 Axes>"
      ]
     },
     "metadata": {},
     "output_type": "display_data"
    }
   ],
   "source": [
    "unpack_model('ridge', ridge)"
   ]
  },
  {
   "cell_type": "markdown",
   "metadata": {},
   "source": [
    "These coefficients are all much more reasonable in magnitude as compared to the prior regression model"
   ]
  },
  {
   "cell_type": "markdown",
   "metadata": {},
   "source": [
    "#### Saving the Ridge Model"
   ]
  },
  {
   "cell_type": "code",
   "execution_count": 11,
   "metadata": {},
   "outputs": [
    {
     "name": "stdout",
     "output_type": "stream",
     "text": [
      "Model saved as ridge.pickle\n"
     ]
    }
   ],
   "source": [
    "save_model(ridge, 'ridge')"
   ]
  },
  {
   "cell_type": "markdown",
   "metadata": {},
   "source": [
    "### The Lasso Model\n",
    "Since this data has many columns, we might want the ability to wittle down the effective columns and for this we employ the lasso model."
   ]
  },
  {
   "cell_type": "code",
   "execution_count": 12,
   "metadata": {},
   "outputs": [
    {
     "name": "stdout",
     "output_type": "stream",
     "text": [
      "model trained and created\n"
     ]
    }
   ],
   "source": [
    "lasso = create_model('lasso', linear_model.Lasso(alpha=0.1))"
   ]
  },
  {
   "cell_type": "markdown",
   "metadata": {},
   "source": [
    "#### Scoring the Lasso Model"
   ]
  },
  {
   "cell_type": "code",
   "execution_count": 13,
   "metadata": {},
   "outputs": [
    {
     "name": "stdout",
     "output_type": "stream",
     "text": [
      "R2 score = 0.88\n",
      "Mean absolute error = 3.2\n",
      "Root mean squared error = 4.5\n"
     ]
    }
   ],
   "source": [
    "score_model(lasso)"
   ]
  },
  {
   "cell_type": "markdown",
   "metadata": {},
   "source": [
    "#### Unpacking the Lasso Model"
   ]
  },
  {
   "cell_type": "code",
   "execution_count": 14,
   "metadata": {},
   "outputs": [
    {
     "name": "stdout",
     "output_type": "stream",
     "text": [
      "{'3PAr_Norm': -0.029462171724197645,\n",
      " 'Age': 0.5885340463546316,\n",
      " 'DRB%': -0.0,\n",
      " 'DRtg': -7.649665330969011,\n",
      " 'FT/FGA': 0.0,\n",
      " 'FTr': 0.0,\n",
      " 'OFT/FGA': -0.07252306514725777,\n",
      " 'ORB%': 0.06765390275676782,\n",
      " 'ORtg': 9.120436215811242,\n",
      " 'OTOV%': 0.0,\n",
      " 'OeFG%': -0.4723267229143698,\n",
      " 'Pace': 0.16890403127848877,\n",
      " 'TOV%': -0.0,\n",
      " 'TS%': 0.435686079511581,\n",
      " 'eFG%': 0.0}\n",
      "Intercept:  40.29153605015672\n"
     ]
    },
    {
     "data": {
      "image/png": "[encoded data removed]",
      "text/plain": [
       "<Figure size 864x576 with 1 Axes>"
      ]
     },
     "metadata": {},
     "output_type": "display_data"
    }
   ],
   "source": [
    "unpack_model('lasso', lasso)"
   ]
  },
  {
   "cell_type": "markdown",
   "metadata": {},
   "source": [
    "This model has allowed us to zero in some of the more influential factors."
   ]
  },
  {
   "cell_type": "markdown",
   "metadata": {},
   "source": [
    "#### Saving the Lasso Model"
   ]
  },
  {
   "cell_type": "code",
   "execution_count": 15,
   "metadata": {},
   "outputs": [
    {
     "name": "stdout",
     "output_type": "stream",
     "text": [
      "Model saved as lasso.pickle\n"
     ]
    }
   ],
   "source": [
    "save_model(lasso, 'lasso')"
   ]
  },
  {
   "cell_type": "markdown",
   "metadata": {},
   "source": [
    "### Combining Concepts: the Elastic Model\n",
    "These models all have their own strengths and weaknesses, so there is also the elastic model that combines the idea of restricting coefficient values, as well as setting as many to zero as possible."
   ]
  },
  {
   "cell_type": "code",
   "execution_count": 16,
   "metadata": {},
   "outputs": [
    {
     "name": "stdout",
     "output_type": "stream",
     "text": [
      "model trained and created\n"
     ]
    }
   ],
   "source": [
    "elastic = create_model('elastic', linear_model.ElasticNet(alpha=0.1, l1_ratio=0.7))"
   ]
  },
  {
   "cell_type": "markdown",
   "metadata": {},
   "source": [
    "#### Scoring the Elastic Model"
   ]
  },
  {
   "cell_type": "code",
   "execution_count": 17,
   "metadata": {},
   "outputs": [
    {
     "name": "stdout",
     "output_type": "stream",
     "text": [
      "R2 score = 0.88\n",
      "Mean absolute error = 3.26\n",
      "Root mean squared error = 4.54\n"
     ]
    }
   ],
   "source": [
    "score_model(elastic)"
   ]
  },
  {
   "cell_type": "markdown",
   "metadata": {},
   "source": [
    "#### Unpacking the Elastic Model"
   ]
  },
  {
   "cell_type": "code",
   "execution_count": 18,
   "metadata": {},
   "outputs": [
    {
     "name": "stdout",
     "output_type": "stream",
     "text": [
      "{'3PAr_Norm': -0.0,\n",
      " 'Age': 0.6908365172077255,\n",
      " 'DRB%': 0.7590777983013136,\n",
      " 'DRtg': -5.316280596065251,\n",
      " 'FT/FGA': 0.28988814369369537,\n",
      " 'FTr': 0.0,\n",
      " 'OFT/FGA': -0.6695828104149639,\n",
      " 'ORB%': 1.7439416262567584,\n",
      " 'ORtg': 5.404866009326346,\n",
      " 'OTOV%': 1.036256342923207,\n",
      " 'OeFG%': -2.294237020789461,\n",
      " 'Pace': 0.058101191642044955,\n",
      " 'TOV%': -1.6020062355786329,\n",
      " 'TS%': 2.384383050599396,\n",
      " 'eFG%': 1.3379379285813604}\n",
      "Intercept:  40.29153605015673\n"
     ]
    },
    {
     "data": {
      "image/png": "[encoded data removed]",
      "text/plain": [
       "<Figure size 864x576 with 1 Axes>"
      ]
     },
     "metadata": {},
     "output_type": "display_data"
    }
   ],
   "source": [
    "unpack_model('elastic', elastic)"
   ]
  },
  {
   "cell_type": "markdown",
   "metadata": {},
   "source": [
    "We have now reached a middle ground between the sparsity of factors and the interpretable coefficients with this model."
   ]
  },
  {
   "cell_type": "markdown",
   "metadata": {},
   "source": [
    "#### Saving the Elastic Model"
   ]
  },
  {
   "cell_type": "code",
   "execution_count": 19,
   "metadata": {},
   "outputs": [
    {
     "name": "stdout",
     "output_type": "stream",
     "text": [
      "Model saved as elastic.pickle\n"
     ]
    }
   ],
   "source": [
    "save_model(elastic, 'elastic')"
   ]
  },
  {
   "cell_type": "markdown",
   "metadata": {},
   "source": [
    "### A Different Type of Linear Regression\n",
    "#### Bayesian Regression\n",
    "With this method, we can obtain the number of wins in a distrobution, instead of simply obtain one exact number. We can also use the same charecteristic of the Ridge model to lessen the effect of overfitting. "
   ]
  },
  {
   "cell_type": "code",
   "execution_count": 20,
   "metadata": {},
   "outputs": [
    {
     "name": "stdout",
     "output_type": "stream",
     "text": [
      "model trained and created\n"
     ]
    }
   ],
   "source": [
    "bayesian_ridge = create_model('bayesian_ridge', linear_model.BayesianRidge())"
   ]
  },
  {
   "cell_type": "markdown",
   "metadata": {},
   "source": [
    "#### Scoring the Ridge Bayesian Model"
   ]
  },
  {
   "cell_type": "code",
   "execution_count": 21,
   "metadata": {},
   "outputs": [
    {
     "name": "stdout",
     "output_type": "stream",
     "text": [
      "R2 score = 0.89\n",
      "Mean absolute error = 3.19\n",
      "Root mean squared error = 4.46\n"
     ]
    }
   ],
   "source": [
    "score_model(bayesian_ridge)"
   ]
  },
  {
   "cell_type": "markdown",
   "metadata": {},
   "source": [
    "#### Unpacking the Ridge Bayesian Model"
   ]
  },
  {
   "cell_type": "code",
   "execution_count": 22,
   "metadata": {},
   "outputs": [
    {
     "name": "stdout",
     "output_type": "stream",
     "text": [
      "{'3PAr_Norm': -0.020951373427411192,\n",
      " 'Age': 0.6381693307795643,\n",
      " 'DRB%': 1.4407836483247864,\n",
      " 'DRtg': -4.714158740854362,\n",
      " 'FT/FGA': 1.649585695479172,\n",
      " 'FTr': -1.0565311926069147,\n",
      " 'OFT/FGA': -0.9892874349809615,\n",
      " 'ORB%': 2.6452280634505105,\n",
      " 'ORtg': 4.433631858230984,\n",
      " 'OTOV%': 1.6334645468324576,\n",
      " 'OeFG%': -2.968619892923551,\n",
      " 'Pace': 0.13132604220299546,\n",
      " 'TOV%': -2.2160855804979205,\n",
      " 'TS%': 2.158997341850609,\n",
      " 'eFG%': 2.4751946183756885}\n",
      "Intercept:  40.291536050156736\n",
      "Alpha:  0.058552195261691684\n",
      "Lambda:  0.15763514263986228\n"
     ]
    },
    {
     "data": {
      "image/png": "[encoded data removed]",
      "text/plain": [
       "<Figure size 864x576 with 1 Axes>"
      ]
     },
     "metadata": {},
     "output_type": "display_data"
    }
   ],
   "source": [
    "unpack_model('bayesian_ridge', bayesian_ridge)\n",
    "br = bayesian_ridge.named_steps['bayesian_ridge']\n",
    "print('Alpha: ', br.alpha_)\n",
    "print('Lambda: ', br.lambda_)"
   ]
  },
  {
   "cell_type": "markdown",
   "metadata": {},
   "source": [
    "These numbers are representative of the normal distrobution that the model gives."
   ]
  },
  {
   "cell_type": "markdown",
   "metadata": {},
   "source": [
    "#### Saving the Ridge Bayesian Model"
   ]
  },
  {
   "cell_type": "code",
   "execution_count": 23,
   "metadata": {},
   "outputs": [
    {
     "name": "stdout",
     "output_type": "stream",
     "text": [
      "Model saved as bayesian_ridge.pickle\n"
     ]
    }
   ],
   "source": [
    "save_model(bayesian_ridge, 'bayesian_ridge')"
   ]
  }
 ],
 "metadata": {
  "interpreter": {
   "hash": "f297435e7483730f90c95e4704d8a04a13ec840de4923b2310ae22b6393e10ed"
  },
  "kernelspec": {
   "display_name": "Python 3.9.7 64-bit ('nba-data-analysis': conda)",
   "language": "python",
   "name": "python3"
  },
  "language_info": {
   "codemirror_mode": {
    "name": "ipython",
    "version": 3
   },
   "file_extension": ".py",
   "mimetype": "text/x-python",
   "name": "python",
   "nbconvert_exporter": "python",
   "pygments_lexer": "ipython3",
   "version": "3.9.7"
  },
  "orig_nbformat": 4
 },
 "nbformat": 4,
 "nbformat_minor": 2
}
