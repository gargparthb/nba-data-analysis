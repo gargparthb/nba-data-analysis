{
 "cells": [
  {
   "cell_type": "code",
   "execution_count": 238,
   "metadata": {},
   "outputs": [],
   "source": [
    "import pandas as pd\n",
    "import numpy as np"
   ]
  },
  {
   "cell_type": "markdown",
   "metadata": {},
   "source": [
    "### Train-Test Spliting of the Data"
   ]
  },
  {
   "cell_type": "code",
   "execution_count": 239,
   "metadata": {},
   "outputs": [
    {
     "name": "stdout",
     "output_type": "stream",
     "text": [
      "(963, 16) (963,) (170, 16) (170,)\n"
     ]
    }
   ],
   "source": [
    "from sklearn.model_selection import train_test_split\n",
    "\n",
    "data = pd.read_csv('../data/teams_processed.csv')\n",
    "\n",
    "# separating the dataset into section ready for model fitting\n",
    "train, test = train_test_split(data, test_size=0.15, train_size=0.85)\n",
    "x_cols = ['Year', 'Age', 'ORtg', 'DRtg', 'NRtg', 'Pace', 'FTr', 'TS%', 'eFG%', 'TOV%', 'ORB%', 'FT/FGA', 'OeFG%', 'OTOV%', 'DRB%', 'OFT/FGA']\n",
    "y_col = 'W'\n",
    "\n",
    "x_train = train[x_cols]\n",
    "y_train = train[y_col]\n",
    "x_test= test[x_cols]\n",
    "y_test = test[y_col]\n",
    "\n",
    "print(x_train.shape, y_train.shape, x_test.shape, y_test.shape)"
   ]
  },
  {
   "cell_type": "markdown",
   "metadata": {},
   "source": [
    "### Linear Regression\n",
    "We can now run the linear regression algorithm on the split data."
   ]
  },
  {
   "cell_type": "code",
   "execution_count": 240,
   "metadata": {},
   "outputs": [],
   "source": [
    "from sklearn import linear_model\n",
    "\n",
    "linear_regression  = linear_model.LinearRegression()\n",
    "\n",
    "# fitting the model\n",
    "linear_regression.fit(x_train, y_train)\n",
    "\n",
    "# testing the model\n",
    "y_pred = linear_regression.predict(x_test)"
   ]
  },
  {
   "cell_type": "markdown",
   "metadata": {},
   "source": [
    "#### Scoring the Linear Regression Model"
   ]
  },
  {
   "cell_type": "code",
   "execution_count": 241,
   "metadata": {},
   "outputs": [
    {
     "name": "stdout",
     "output_type": "stream",
     "text": [
      "Model accuracy on the test set:  0.92 \n",
      "\n",
      "R2 score = 0.92\n",
      "Mean absolute error = 2.84\n",
      "Root mean squared error = 3.79\n"
     ]
    }
   ],
   "source": [
    "from sklearn import metrics\n",
    "import math\n",
    "\n",
    "accuracy = linear_regression.score(x_test, y_test)\n",
    "print(\"Model accuracy on the test set: \", round(accuracy, 2), '\\n')\n",
    "\n",
    "# Baseline Model accuracy\n",
    "print(\"R2 score =\", round(metrics.r2_score(y_test, y_pred), 2))\n",
    "print(\"Mean absolute error =\", round(metrics.mean_absolute_error(y_test, y_pred), 2)) \n",
    "print(\"Root mean squared error =\", round(math.sqrt(metrics.mean_squared_error(y_test, y_pred)), 2)) "
   ]
  },
  {
   "cell_type": "markdown",
   "metadata": {},
   "source": [
    "#### Unpacking the Linear Regression Model"
   ]
  },
  {
   "cell_type": "code",
   "execution_count": 242,
   "metadata": {},
   "outputs": [
    {
     "name": "stdout",
     "output_type": "stream",
     "text": [
      "{'Age': 0.20180791123654562,\n",
      " 'DRB%': 0.3991887258331527,\n",
      " 'DRtg': 6184730435354.6045,\n",
      " 'FT/FGA': 171.22854604094388,\n",
      " 'FTr': -90.10833371870639,\n",
      " 'NRtg': 6184730435356.035,\n",
      " 'OFT/FGA': -36.63270497642835,\n",
      " 'ORB%': 0.6406235752264039,\n",
      " 'ORtg': -6184730435354.801,\n",
      " 'OTOV%': 1.132738917717176,\n",
      " 'OeFG%': -129.47982412849842,\n",
      " 'Pace': 0.00466026688042534,\n",
      " 'TOV%': -1.7507473813689907,\n",
      " 'TS%': -137.8996998288097,\n",
      " 'Year': -0.04650829329272022,\n",
      " 'eFG%': 320.50533441206056}\n",
      "86.31360332294912\n"
     ]
    }
   ],
   "source": [
    "import pprint\n",
    "\n",
    "pprint.pprint(dict(zip(x_cols, linear_regression.coef_)))\n",
    "print(\"Intercept: \", linear_regression.intercept_)"
   ]
  },
  {
   "cell_type": "markdown",
   "metadata": {},
   "source": [
    "#### Saving the Linear Regression Model"
   ]
  },
  {
   "cell_type": "code",
   "execution_count": 243,
   "metadata": {},
   "outputs": [],
   "source": [
    "import pickle\n",
    "\n"
   ]
  }
 ],
 "metadata": {
  "interpreter": {
   "hash": "f297435e7483730f90c95e4704d8a04a13ec840de4923b2310ae22b6393e10ed"
  },
  "kernelspec": {
   "display_name": "Python 3.9.7 64-bit ('nba-data-analysis': conda)",
   "language": "python",
   "name": "python3"
  },
  "language_info": {
   "codemirror_mode": {
    "name": "ipython",
    "version": 3
   },
   "file_extension": ".py",
   "mimetype": "text/x-python",
   "name": "python",
   "nbconvert_exporter": "python",
   "pygments_lexer": "ipython3",
   "version": "3.9.7"
  },
  "orig_nbformat": 4
 },
 "nbformat": 4,
 "nbformat_minor": 2
}
